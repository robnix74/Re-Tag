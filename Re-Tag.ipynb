{
 "cells": [
  {
   "cell_type": "markdown",
   "metadata": {
    "toc": true
   },
   "source": [
    "<h1>Table of Contents<span class=\"tocSkip\"></span></h1>\n",
    "<div class=\"toc\"><ul class=\"toc-item\"><li><span><a href=\"#Load-and-Analyze\" data-toc-modified-id=\"Load-and-Analyze-1\"><span class=\"toc-item-num\">1&nbsp;&nbsp;</span>Load and Analyze</a></span></li><li><span><a href=\"#Preprocessing\" data-toc-modified-id=\"Preprocessing-2\"><span class=\"toc-item-num\">2&nbsp;&nbsp;</span>Preprocessing</a></span></li><li><span><a href=\"#Feature-Engineering-for-traditional-ML\" data-toc-modified-id=\"Feature-Engineering-for-traditional-ML-3\"><span class=\"toc-item-num\">3&nbsp;&nbsp;</span>Feature Engineering for traditional ML</a></span><ul class=\"toc-item\"><li><span><a href=\"#TF-IDF\" data-toc-modified-id=\"TF-IDF-3.1\"><span class=\"toc-item-num\">3.1&nbsp;&nbsp;</span>TF-IDF</a></span></li></ul></li><li><span><a href=\"#Traditional-ML-Algorithms\" data-toc-modified-id=\"Traditional-ML-Algorithms-4\"><span class=\"toc-item-num\">4&nbsp;&nbsp;</span>Traditional ML Algorithms</a></span><ul class=\"toc-item\"><li><span><a href=\"#Logistic-Regression\" data-toc-modified-id=\"Logistic-Regression-4.1\"><span class=\"toc-item-num\">4.1&nbsp;&nbsp;</span>Logistic Regression</a></span></li><li><span><a href=\"#Naive-Bayes\" data-toc-modified-id=\"Naive-Bayes-4.2\"><span class=\"toc-item-num\">4.2&nbsp;&nbsp;</span>Naive Bayes</a></span></li><li><span><a href=\"#Random-Forest\" data-toc-modified-id=\"Random-Forest-4.3\"><span class=\"toc-item-num\">4.3&nbsp;&nbsp;</span>Random Forest</a></span></li><li><span><a href=\"#Non-Linear-SVM\" data-toc-modified-id=\"Non-Linear-SVM-4.4\"><span class=\"toc-item-num\">4.4&nbsp;&nbsp;</span>Non Linear SVM</a></span></li><li><span><a href=\"#Linear-SVM\" data-toc-modified-id=\"Linear-SVM-4.5\"><span class=\"toc-item-num\">4.5&nbsp;&nbsp;</span>Linear SVM</a></span></li></ul></li><li><span><a href=\"#Word-Embeddings\" data-toc-modified-id=\"Word-Embeddings-5\"><span class=\"toc-item-num\">5&nbsp;&nbsp;</span>Word Embeddings</a></span></li><li><span><a href=\"#Deep-Learning-Algorithms\" data-toc-modified-id=\"Deep-Learning-Algorithms-6\"><span class=\"toc-item-num\">6&nbsp;&nbsp;</span>Deep Learning Algorithms</a></span><ul class=\"toc-item\"><li><span><a href=\"#CNN\" data-toc-modified-id=\"CNN-6.1\"><span class=\"toc-item-num\">6.1&nbsp;&nbsp;</span>CNN</a></span></li><li><span><a href=\"#CNN-Multi-Layer\" data-toc-modified-id=\"CNN-Multi-Layer-6.2\"><span class=\"toc-item-num\">6.2&nbsp;&nbsp;</span>CNN Multi Layer</a></span></li><li><span><a href=\"#RNN\" data-toc-modified-id=\"RNN-6.3\"><span class=\"toc-item-num\">6.3&nbsp;&nbsp;</span>RNN</a></span></li><li><span><a href=\"#CNN-+-LSTM-Stacking\" data-toc-modified-id=\"CNN-+-LSTM-Stacking-6.4\"><span class=\"toc-item-num\">6.4&nbsp;&nbsp;</span>CNN + LSTM Stacking</a></span></li></ul></li><li><span><a href=\"#Training-and-Validation-Process\" data-toc-modified-id=\"Training-and-Validation-Process-7\"><span class=\"toc-item-num\">7&nbsp;&nbsp;</span>Training and Validation Process</a></span><ul class=\"toc-item\"><li><span><a href=\"#Word2Vec-learnt-from-data\" data-toc-modified-id=\"Word2Vec-learnt-from-data-7.1\"><span class=\"toc-item-num\">7.1&nbsp;&nbsp;</span>Word2Vec learnt from data</a></span></li><li><span><a href=\"#Glove-Pretrained\" data-toc-modified-id=\"Glove-Pretrained-7.2\"><span class=\"toc-item-num\">7.2&nbsp;&nbsp;</span>Glove Pretrained</a></span></li></ul></li><li><span><a href=\"#Results\" data-toc-modified-id=\"Results-8\"><span class=\"toc-item-num\">8&nbsp;&nbsp;</span>Results</a></span></li></ul></div>"
   ]
  },
  {
   "cell_type": "code",
   "execution_count": null,
   "metadata": {},
   "outputs": [],
   "source": [
    "import numpy as np \n",
    "import pandas as pd\n",
    "\n",
    "import matplotlib.pyplot as plt\n",
    "import seaborn as sns\n",
    "\n",
    "import re\n",
    "import string\n",
    "import nltk\n",
    "from nltk.corpus import stopwords\n",
    "from nltk.stem import WordNetLemmatizer\n",
    "from nltk.stem import PorterStemmer\n",
    "\n",
    "nltk.download('wordnet') # Uncomment when running for the first time.\n",
    "nltk.download('punkt')\n",
    "nltk.download('stopwords')\n",
    "\n",
    "import gensim\n",
    "from gensim.models.word2vec import Word2Vec\n",
    "from gensim.models import KeyedVectors\n",
    "\n",
    "from sklearn.feature_extraction.text import TfidfVectorizer\n",
    "\n",
    "from sklearn.linear_model import LogisticRegression, SGDClassifier\n",
    "from sklearn.naive_bayes import GaussianNB\n",
    "from sklearn import tree\n",
    "from sklearn.ensemble import RandomForestClassifier\n",
    "from sklearn.svm import SVC\n",
    "\n",
    "from sklearn.multiclass import OneVsRestClassifier\n",
    "\n",
    "!pip install scikit-multilearn\n",
    "import skmultilearn\n",
    "from skmultilearn.problem_transform import BinaryRelevance, ClassifierChain, LabelPowerset\n",
    "\n",
    "from sklearn.model_selection import RandomizedSearchCV, GridSearchCV, train_test_split\n",
    "from sklearn.metrics import accuracy_score, precision_score, recall_score, f1_score, roc_auc_score, confusion_matrix, classification_report\n",
    "\n",
    "import tensorflow\n",
    "\n",
    "from tensorflow.python.keras.preprocessing.text import Tokenizer\n",
    "from tensorflow.keras.preprocessing.sequence import pad_sequences\n",
    "from tensorflow.keras.models import Sequential, Model, model_from_json\n",
    "from tensorflow.keras.layers import Input, Embedding, Dense, Flatten, Dropout, SpatialDropout1D, BatchNormalization, Activation\n",
    "from tensorflow.keras.layers import Conv1D, GlobalMaxPooling1D, MaxPooling1D\n",
    "from tensorflow.keras.layers import LSTM, GRU, Bidirectional\n",
    "\n",
    "from keras.optimizers import SGD, Adam\n",
    "\n",
    "from keras.layers.merge import concatenate\n",
    "from tensorflow.keras.callbacks import ModelCheckpoint\n",
    "\n",
    "from keras.wrappers.scikit_learn import KerasClassifier\n",
    "\n",
    "from sklearn.base import TransformerMixin\n",
    "from sklearn.pipeline import Pipeline"
   ]
  },
  {
   "cell_type": "markdown",
   "metadata": {
    "colab_type": "text",
    "id": "Y3l95HZo-uOj"
   },
   "source": [
    "## Load and Analyze"
   ]
  },
  {
   "cell_type": "code",
   "execution_count": null,
   "metadata": {
    "colab": {},
    "colab_type": "code",
    "id": "Ci7v23vT-msJ"
   },
   "outputs": [],
   "source": [
    "source_path = '/content/drive/My Drive/AV_Independence/'\n",
    "submission_path = '/content/drive/My Drive/AV_Independence/Submissions/'\n",
    "data = pd.read_csv('/content/drive/My Drive/AV_Independence/train.csv')\n",
    "test = pd.read_csv('/content/drive/My Drive/AV_Independence/test.csv')"
   ]
  },
  {
   "cell_type": "code",
   "execution_count": null,
   "metadata": {
    "colab": {
     "base_uri": "https://localhost:8080/",
     "height": 310
    },
    "colab_type": "code",
    "id": "Yv5WY1X4-sSq",
    "outputId": "cc30c554-4e9f-4be0-ce84-11ba52b2a185"
   },
   "outputs": [
    {
     "name": "stdout",
     "output_type": "stream",
     "text": [
      "(20972, 9)\n"
     ]
    },
    {
     "data": {
      "text/html": [
       "<div>\n",
       "<style scoped>\n",
       "    .dataframe tbody tr th:only-of-type {\n",
       "        vertical-align: middle;\n",
       "    }\n",
       "\n",
       "    .dataframe tbody tr th {\n",
       "        vertical-align: top;\n",
       "    }\n",
       "\n",
       "    .dataframe thead th {\n",
       "        text-align: right;\n",
       "    }\n",
       "</style>\n",
       "<table border=\"1\" class=\"dataframe\">\n",
       "  <thead>\n",
       "    <tr style=\"text-align: right;\">\n",
       "      <th></th>\n",
       "      <th>ID</th>\n",
       "      <th>TITLE</th>\n",
       "      <th>ABSTRACT</th>\n",
       "      <th>Computer Science</th>\n",
       "      <th>Physics</th>\n",
       "      <th>Mathematics</th>\n",
       "      <th>Statistics</th>\n",
       "      <th>Quantitative Biology</th>\n",
       "      <th>Quantitative Finance</th>\n",
       "    </tr>\n",
       "  </thead>\n",
       "  <tbody>\n",
       "    <tr>\n",
       "      <th>0</th>\n",
       "      <td>1</td>\n",
       "      <td>Reconstructing Subject-Specific Effect Maps</td>\n",
       "      <td>Predictive models allow subject-specific inf...</td>\n",
       "      <td>1</td>\n",
       "      <td>0</td>\n",
       "      <td>0</td>\n",
       "      <td>0</td>\n",
       "      <td>0</td>\n",
       "      <td>0</td>\n",
       "    </tr>\n",
       "    <tr>\n",
       "      <th>1</th>\n",
       "      <td>2</td>\n",
       "      <td>Rotation Invariance Neural Network</td>\n",
       "      <td>Rotation invariance and translation invarian...</td>\n",
       "      <td>1</td>\n",
       "      <td>0</td>\n",
       "      <td>0</td>\n",
       "      <td>0</td>\n",
       "      <td>0</td>\n",
       "      <td>0</td>\n",
       "    </tr>\n",
       "    <tr>\n",
       "      <th>2</th>\n",
       "      <td>3</td>\n",
       "      <td>Spherical polyharmonics and Poisson kernels fo...</td>\n",
       "      <td>We introduce and develop the notion of spher...</td>\n",
       "      <td>0</td>\n",
       "      <td>0</td>\n",
       "      <td>1</td>\n",
       "      <td>0</td>\n",
       "      <td>0</td>\n",
       "      <td>0</td>\n",
       "    </tr>\n",
       "    <tr>\n",
       "      <th>3</th>\n",
       "      <td>4</td>\n",
       "      <td>A finite element approximation for the stochas...</td>\n",
       "      <td>The stochastic Landau--Lifshitz--Gilbert (LL...</td>\n",
       "      <td>0</td>\n",
       "      <td>0</td>\n",
       "      <td>1</td>\n",
       "      <td>0</td>\n",
       "      <td>0</td>\n",
       "      <td>0</td>\n",
       "    </tr>\n",
       "    <tr>\n",
       "      <th>4</th>\n",
       "      <td>5</td>\n",
       "      <td>Comparative study of Discrete Wavelet Transfor...</td>\n",
       "      <td>Fourier-transform infra-red (FTIR) spectra o...</td>\n",
       "      <td>1</td>\n",
       "      <td>0</td>\n",
       "      <td>0</td>\n",
       "      <td>1</td>\n",
       "      <td>0</td>\n",
       "      <td>0</td>\n",
       "    </tr>\n",
       "  </tbody>\n",
       "</table>\n",
       "</div>"
      ],
      "text/plain": [
       "   ID  ... Quantitative Finance\n",
       "0   1  ...                    0\n",
       "1   2  ...                    0\n",
       "2   3  ...                    0\n",
       "3   4  ...                    0\n",
       "4   5  ...                    0\n",
       "\n",
       "[5 rows x 9 columns]"
      ]
     },
     "execution_count": 3,
     "metadata": {
      "tags": []
     },
     "output_type": "execute_result"
    }
   ],
   "source": [
    "print(data.shape)\n",
    "data.head()"
   ]
  },
  {
   "cell_type": "code",
   "execution_count": null,
   "metadata": {
    "colab": {
     "base_uri": "https://localhost:8080/",
     "height": 183
    },
    "colab_type": "code",
    "id": "kbnfs-er-5fO",
    "outputId": "1c6369d4-c86c-4bb4-bb2c-31091d0f9768"
   },
   "outputs": [
    {
     "data": {
      "text/plain": [
       "ID                      0\n",
       "TITLE                   0\n",
       "ABSTRACT                0\n",
       "Computer Science        0\n",
       "Physics                 0\n",
       "Mathematics             0\n",
       "Statistics              0\n",
       "Quantitative Biology    0\n",
       "Quantitative Finance    0\n",
       "dtype: int64"
      ]
     },
     "execution_count": 6,
     "metadata": {
      "tags": []
     },
     "output_type": "execute_result"
    }
   ],
   "source": [
    "# Checking for NULL values\n",
    "\n",
    "data.isnull().sum()"
   ]
  },
  {
   "cell_type": "code",
   "execution_count": null,
   "metadata": {
    "colab": {
     "base_uri": "https://localhost:8080/",
     "height": 492
    },
    "colab_type": "code",
    "id": "_CaoUZW9-5kc",
    "outputId": "70b81f58-4900-4a0f-fcef-ea8e5ffbe6c0"
   },
   "outputs": [
    {
     "name": "stdout",
     "output_type": "stream",
     "text": [
      "Computer Science        8594\n",
      "Physics                 6013\n",
      "Mathematics             5618\n",
      "Statistics              5206\n",
      "Quantitative Biology     587\n",
      "Quantitative Finance     249\n",
      "dtype: int64\n"
     ]
    },
    {
     "data": {
      "text/plain": [
       "<matplotlib.axes._subplots.AxesSubplot at 0x7f93f8f2e780>"
      ]
     },
     "execution_count": 10,
     "metadata": {
      "tags": []
     },
     "output_type": "execute_result"
    },
    {
     "data": {
      "image/png": "[encoded data removed]",
      "text/plain": [
       "<Figure size 432x288 with 1 Axes>"
      ]
     },
     "metadata": {
      "needs_background": "light",
      "tags": []
     },
     "output_type": "display_data"
    }
   ],
   "source": [
    "# Output Label Distribution:\n",
    "\n",
    "print(data.iloc[:,3:].sum(axis = 0))\n",
    "data.iloc[:,3:].sum(axis = 0).plot(kind = 'bar')"
   ]
  },
  {
   "cell_type": "markdown",
   "metadata": {
    "colab_type": "text",
    "id": "LoAMwlz9-Icm"
   },
   "source": [
    "Computer Science has the highest frequency distribution and Quantitative Finance has the least.\n",
    "\n",
    "The occurences of QB and QF are very low and thus might cause issues with imbalance."
   ]
  },
  {
   "cell_type": "code",
   "execution_count": null,
   "metadata": {
    "colab": {},
    "colab_type": "code",
    "id": "gV6pSPcE-Icp",
    "scrolled": true
   },
   "outputs": [],
   "source": [
    "# Number of datapoints with multiple labels. A new dataframe which is a subset of datapoints which consists of multiple labels is defined for analysis.\n",
    "\n",
    "multilabel_da = data[data.iloc[:,3:].sum(axis = 1) > 1]\n",
    "multilabel_da['Labels_Sum'] = multilabel_da.iloc[:, 4:].sum(axis = 1)\n",
    "multilabel_da"
   ]
  },
  {
   "cell_type": "code",
   "execution_count": null,
   "metadata": {
    "colab": {},
    "colab_type": "code",
    "id": "H8ioqGUa-Ics",
    "scrolled": true
   },
   "outputs": [],
   "source": [
    "maximum_multi_label = multilabel_da['Labels_Sum'].max()\n",
    "print('Maximum number of labels associated with a datapoint : ', maximum_multi_label)\n",
    "\n",
    "multilabel_da[multilabel_da['Labels_Sum'] == 3]"
   ]
  },
  {
   "cell_type": "markdown",
   "metadata": {
    "colab_type": "text",
    "id": "S1e4-RhD-Icz"
   },
   "source": [
    "Maximum number of labels associated with a datapoint is 3.\n",
    "\n",
    "There are 10 such datapoints and 9 of them belong to the multilabel class {Physics, Mathematics. Statistics}"
   ]
  },
  {
   "cell_type": "code",
   "execution_count": null,
   "metadata": {
    "colab": {
     "base_uri": "https://localhost:8080/",
     "height": 200
    },
    "colab_type": "code",
    "id": "bRFfa8QJ-Icz",
    "outputId": "1726c158-2b6f-4850-b669-575e6969861d",
    "scrolled": true
   },
   "outputs": [
    {
     "data": {
      "text/plain": [
       "ID                                                               16481205\n",
       "TITLE                   Many-Body Localization: Stability and Instabil...\n",
       "ABSTRACT                  Rare regions with weak disorder (Griffiths r...\n",
       "Computer Science                                                      241\n",
       "Physics                                                               447\n",
       "Mathematics                                                          1316\n",
       "Statistics                                                           1275\n",
       "Quantitative Biology                                                  114\n",
       "Quantitative Finance                                                   30\n",
       "Labels_Sum                                                           3182\n",
       "dtype: object"
      ]
     },
     "execution_count": 13,
     "metadata": {
      "tags": []
     },
     "output_type": "execute_result"
    }
   ],
   "source": [
    "multilabel_da[multilabel_da['Labels_Sum'] == 2].sum(axis = 0)"
   ]
  },
  {
   "cell_type": "markdown",
   "metadata": {
    "colab_type": "text",
    "id": "6MiZP2Qy-Ic2"
   },
   "source": [
    "Additional Possible Inisghts:\n",
    "\n",
    "Most Paired Combo\n",
    "Least Paired Combo"
   ]
  },
  {
   "cell_type": "markdown",
   "metadata": {
    "colab_type": "text",
    "id": "tWqFZnMu-Ic9"
   },
   "source": [
    "## Preprocessing"
   ]
  },
  {
   "cell_type": "code",
   "execution_count": null,
   "metadata": {
    "colab": {},
    "colab_type": "code",
    "id": "APoq2tf6bt-V"
   },
   "outputs": [],
   "source": [
    "y_train = np.array(data.iloc[:,3:])\n",
    "output_labels = list(data.columns[3:])"
   ]
  },
  {
   "cell_type": "code",
   "execution_count": null,
   "metadata": {
    "colab": {},
    "colab_type": "code",
    "id": "ROqMrp05-Ic9",
    "scrolled": true
   },
   "outputs": [],
   "source": [
    "# Combine TITLE and ABSTRACT columns into a new column named Text\n",
    "\n",
    "data['Text'] = data.TITLE +  data.ABSTRACT\n",
    "test['Text'] = test.TITLE +  test.ABSTRACT"
   ]
  },
  {
   "cell_type": "code",
   "execution_count": null,
   "metadata": {
    "colab": {},
    "colab_type": "code",
    "id": "qA-QZFMB-IdC"
   },
   "outputs": [],
   "source": [
    "def preprocess(text):\n",
    "    \n",
    "    punctuations = string.punctuation.replace(\"\", \" \").split()\n",
    "    lemmatizer = WordNetLemmatizer()\n",
    "    \n",
    "    stopwords_list = set(stopwords.words('english'))\n",
    "    #first_stop = [i for i in stopwords_list if len(i) <= 3 or i.endswith('re') or i.find('\\'') != -1]\n",
    "    \n",
    "    text = text.lower()\n",
    "    \n",
    "    text = re.sub(r\"[^a-zA-Z]\", \" \", text)\n",
    "    text = re.sub(r\"\\'s\", \" \", text)\n",
    "    text = re.sub(r\"[-:,()\\\"\\']\", \" \", text)\n",
    "    text = re.sub(r\"\\s+\", \" \", text)\n",
    "    \n",
    "    tokens = nltk.word_tokenize(text)\n",
    "    clean_words = [lemmatizer.lemmatize(tok) for tok in tokens if tok not in punctuations and tok not in stopwords_list]\n",
    "    \n",
    "    return ' '.join(clean_words)"
   ]
  },
  {
   "cell_type": "code",
   "execution_count": null,
   "metadata": {
    "colab": {},
    "colab_type": "code",
    "id": "HC4BTBzO-IdE"
   },
   "outputs": [],
   "source": [
    "train_clean = data['Text'].apply(preprocess)\n",
    "test_clean = test['Text'].apply(preprocess)\n",
    "\n",
    "X_train_dl, X_valid_dl, y_train_dl, y_valid_dl = train_test_split(train_clean, \n",
    "                                                    y_train, \n",
    "                                                    test_size=0.1, \n",
    "                                                    random_state=42,)\n",
    "\n",
    "X_train_dl = [i.split() for i in X_train_dl]\n",
    "X_valid_dl = [i.split() for i in X_valid_dl]\n",
    "\n",
    "X_test_dl = [i.split() for i in test_clean]"
   ]
  },
  {
   "cell_type": "code",
   "execution_count": null,
   "metadata": {
    "colab": {
     "base_uri": "https://localhost:8080/",
     "height": 50
    },
    "colab_type": "code",
    "id": "6jbLuO6bQ6A3",
    "outputId": "4ee00454-5973-4f1b-9164-0441e177c20d"
   },
   "outputs": [
    {
     "name": "stdout",
     "output_type": "stream",
     "text": [
      "[7741 5390 5038 4690  529  223]\n",
      "[853 623 580 516  58  26]\n"
     ]
    }
   ],
   "source": [
    "print(np.array(y_train_dl).sum(axis=0))\n",
    "print(np.array(y_valid_dl).sum(axis=0))"
   ]
  },
  {
   "cell_type": "markdown",
   "metadata": {
    "colab_type": "text",
    "id": "zPgS2fmn-IdI"
   },
   "source": [
    "## Feature Engineering for traditional ML"
   ]
  },
  {
   "cell_type": "markdown",
   "metadata": {
    "colab_type": "text",
    "id": "bnO-EkfHCUWo"
   },
   "source": [
    "### TF-IDF"
   ]
  },
  {
   "cell_type": "code",
   "execution_count": 44,
   "metadata": {
    "ExecuteTime": {
     "end_time": "2020-08-20T13:33:51.118574Z",
     "start_time": "2020-08-20T13:33:51.046793Z"
    },
    "colab": {
     "base_uri": "https://localhost:8080/",
     "height": 50
    },
    "colab_type": "code",
    "id": "p3n4X03q-5c0",
    "outputId": "cd98812c-d8e6-4378-c21b-218a936ceefa"
   },
   "outputs": [],
   "source": [
    "tfidf_pipeline = Pipeline([('tfidf_vectorizer', TfidfVectorizer(max_features = 7000))\n",
    "                          ]"
   ]
  },
  {
   "cell_type": "code",
   "execution_count": 11,
   "metadata": {
    "ExecuteTime": {
     "end_time": "2020-08-20T12:52:55.040111Z",
     "start_time": "2020-08-20T12:52:55.028142Z"
    },
    "colab": {},
    "colab_type": "code",
    "id": "8xPdFsEXijiL"
   },
   "outputs": [],
   "source": [
    "class DenseTransformer(TransformerMixin):\n",
    "\n",
    "    def fit(self, X, y=None, **fit_params):\n",
    "        return self\n",
    "\n",
    "    def transform(self, X, y=None, **fit_params):\n",
    "        return X.todense()\n",
    "\n",
    "\n",
    "def get_baseline_pipeline(algorithm_index):\n",
    "    ML_algorithms = [LogisticRegression(random_state=42), GaussianNB(), tree.DecisionTreeClassifier(random_state=42), \n",
    "                   RandomForestClassifier(random_state=42), SVC(random_state=42), SGDClassifier(random_state=42, loss='hinge', penalty='l2',max_iter=5, tol=None)\n",
    "                  ]\n",
    "\n",
    "    OVR_pipeline = Pipeline([\n",
    "                          ('tfidf_pipeline', tfidf_pipeline),\n",
    "                          ('to_dense', DenseTransformer()),\n",
    "                          ('clf', OneVsRestClassifier(ML_algorithms[algorithm_index], n_jobs=-1))\n",
    "                          ])\n",
    "\n",
    "    BR_pipeline = Pipeline([\n",
    "                          ('tfidf_pipeline', tfidf_pipeline),\n",
    "                          ('to_dense', DenseTransformer()),\n",
    "                          ('clf', BinaryRelevance(ML_algorithms[algorithm_index]))\n",
    "                          ])\n",
    "\n",
    "    CC_pipeline = Pipeline([\n",
    "                          ('tfidf_pipeline', tfidf_pipeline),\n",
    "                          ('to_dense', DenseTransformer()),\n",
    "                          ('clf', ClassifierChain(ML_algorithms[algorithm_index]))\n",
    "                          ])\n",
    "\n",
    "    LP_pipeline = Pipeline([\n",
    "                          ('tfidf_pipeline', tfidf_pipeline),\n",
    "                          ('to_dense', DenseTransformer()),\n",
    "                          ('clf', LabelPowerset(ML_algorithms[algorithm_index]))\n",
    "                          ])\n",
    "\n",
    "    return [OVR_pipeline, BR_pipeline, CC_pipeline, LP_pipeline]"
   ]
  },
  {
   "cell_type": "code",
   "execution_count": 38,
   "metadata": {
    "ExecuteTime": {
     "end_time": "2020-08-20T13:21:08.017364Z",
     "start_time": "2020-08-20T13:21:08.012344Z"
    }
   },
   "outputs": [],
   "source": [
    "def calculate_OVR_overall_accuracy(y_true, y_pred):\n",
    "    return round(((list((y_true == y_pred).sum(axis = 1)).count(6)) / y_true.shape[0]), 4)\n",
    "    "
   ]
  },
  {
   "cell_type": "code",
   "execution_count": 12,
   "metadata": {
    "ExecuteTime": {
     "end_time": "2020-08-20T12:52:55.125880Z",
     "start_time": "2020-08-20T12:52:55.120894Z"
    }
   },
   "outputs": [],
   "source": [
    "ML_algo_names = ['Logistic', 'GaussianNB', 'DecisionTree', 'RandomForest', 'SVM_Non_Linear', 'SVM_Linear']\n",
    "methods = ['OVR', 'BR', 'CC', 'LP']"
   ]
  },
  {
   "cell_type": "markdown",
   "metadata": {
    "colab_type": "text",
    "id": "WF0BcavfDBuF"
   },
   "source": [
    "## Traditional ML Algorithms"
   ]
  },
  {
   "cell_type": "markdown",
   "metadata": {},
   "source": [
    "All the algorithms can be enclosed in a single loop. But, since each algorithm took a lot of time to execute, separate cells have been added."
   ]
  },
  {
   "cell_type": "markdown",
   "metadata": {},
   "source": [
    "### Logistic Regression"
   ]
  },
  {
   "cell_type": "code",
   "execution_count": 46,
   "metadata": {
    "ExecuteTime": {
     "end_time": "2020-08-20T13:45:20.340592Z",
     "start_time": "2020-08-20T13:40:52.845949Z"
    },
    "collapsed": true
   },
   "outputs": [
    {
     "name": "stdout",
     "output_type": "stream",
     "text": [
      "Grid_Logistic_BR\n",
      "Fitting 3 folds for each of 36 candidates, totalling 108 fits\n"
     ]
    },
    {
     "name": "stderr",
     "output_type": "stream",
     "text": [
      "[Parallel(n_jobs=1)]: Using backend SequentialBackend with 1 concurrent workers.\n"
     ]
    },
    {
     "ename": "KeyboardInterrupt",
     "evalue": "",
     "output_type": "error",
     "traceback": [
      "\u001b[1;31m---------------------------------------------------------------------------\u001b[0m",
      "\u001b[1;31mKeyboardInterrupt\u001b[0m                         Traceback (most recent call last)",
      "\u001b[1;32m<ipython-input-46-64e3943a7c98>\u001b[0m in \u001b[0;36m<module>\u001b[1;34m\u001b[0m\n\u001b[0;32m     58\u001b[0m     \u001b[1;32melse\u001b[0m\u001b[1;33m:\u001b[0m\u001b[1;33m\u001b[0m\u001b[1;33m\u001b[0m\u001b[0m\n\u001b[0;32m     59\u001b[0m         \u001b[0mlogistic_grid_results\u001b[0m\u001b[1;33m[\u001b[0m\u001b[0msuffix\u001b[0m\u001b[1;33m]\u001b[0m \u001b[1;33m=\u001b[0m \u001b[1;33m{\u001b[0m\u001b[1;33m}\u001b[0m\u001b[1;33m\u001b[0m\u001b[1;33m\u001b[0m\u001b[0m\n\u001b[1;32m---> 60\u001b[1;33m         \u001b[0mlogistic_grid_search\u001b[0m\u001b[1;33m.\u001b[0m\u001b[0mfit\u001b[0m\u001b[1;33m(\u001b[0m\u001b[0mX_train\u001b[0m\u001b[1;33m,\u001b[0m \u001b[0my_train\u001b[0m\u001b[1;33m)\u001b[0m\u001b[1;33m\u001b[0m\u001b[1;33m\u001b[0m\u001b[0m\n\u001b[0m\u001b[0;32m     61\u001b[0m         \u001b[0mlogistic_grid_results\u001b[0m\u001b[1;33m[\u001b[0m\u001b[0msuffix\u001b[0m\u001b[1;33m]\u001b[0m\u001b[1;33m.\u001b[0m\u001b[0mupdate\u001b[0m\u001b[1;33m(\u001b[0m\u001b[1;33m{\u001b[0m\u001b[1;34m'train_score'\u001b[0m \u001b[1;33m:\u001b[0m \u001b[0mlogistic_grid_search\u001b[0m\u001b[1;33m.\u001b[0m\u001b[0mscore\u001b[0m\u001b[1;33m(\u001b[0m\u001b[0mX_train\u001b[0m\u001b[1;33m,\u001b[0m \u001b[0my_train\u001b[0m\u001b[1;33m)\u001b[0m\u001b[1;33m}\u001b[0m\u001b[1;33m)\u001b[0m\u001b[1;33m\u001b[0m\u001b[1;33m\u001b[0m\u001b[0m\n\u001b[0;32m     62\u001b[0m         \u001b[0mlogistic_grid_results\u001b[0m\u001b[1;33m[\u001b[0m\u001b[0msuffix\u001b[0m\u001b[1;33m]\u001b[0m\u001b[1;33m.\u001b[0m\u001b[0mupdate\u001b[0m\u001b[1;33m(\u001b[0m\u001b[1;33m{\u001b[0m\u001b[1;34m'best_score'\u001b[0m \u001b[1;33m:\u001b[0m \u001b[0mlogistic_grid_search\u001b[0m\u001b[1;33m.\u001b[0m\u001b[0mbest_score_\u001b[0m\u001b[1;33m}\u001b[0m\u001b[1;33m)\u001b[0m\u001b[1;33m\u001b[0m\u001b[1;33m\u001b[0m\u001b[0m\n",
      "\u001b[1;32mD:\\Anaconda\\lib\\site-packages\\sklearn\\utils\\validation.py\u001b[0m in \u001b[0;36minner_f\u001b[1;34m(*args, **kwargs)\u001b[0m\n\u001b[0;32m     71\u001b[0m                           FutureWarning)\n\u001b[0;32m     72\u001b[0m         \u001b[0mkwargs\u001b[0m\u001b[1;33m.\u001b[0m\u001b[0mupdate\u001b[0m\u001b[1;33m(\u001b[0m\u001b[1;33m{\u001b[0m\u001b[0mk\u001b[0m\u001b[1;33m:\u001b[0m \u001b[0marg\u001b[0m \u001b[1;32mfor\u001b[0m \u001b[0mk\u001b[0m\u001b[1;33m,\u001b[0m \u001b[0marg\u001b[0m \u001b[1;32min\u001b[0m \u001b[0mzip\u001b[0m\u001b[1;33m(\u001b[0m\u001b[0msig\u001b[0m\u001b[1;33m.\u001b[0m\u001b[0mparameters\u001b[0m\u001b[1;33m,\u001b[0m \u001b[0margs\u001b[0m\u001b[1;33m)\u001b[0m\u001b[1;33m}\u001b[0m\u001b[1;33m)\u001b[0m\u001b[1;33m\u001b[0m\u001b[1;33m\u001b[0m\u001b[0m\n\u001b[1;32m---> 73\u001b[1;33m         \u001b[1;32mreturn\u001b[0m \u001b[0mf\u001b[0m\u001b[1;33m(\u001b[0m\u001b[1;33m**\u001b[0m\u001b[0mkwargs\u001b[0m\u001b[1;33m)\u001b[0m\u001b[1;33m\u001b[0m\u001b[1;33m\u001b[0m\u001b[0m\n\u001b[0m\u001b[0;32m     74\u001b[0m     \u001b[1;32mreturn\u001b[0m \u001b[0minner_f\u001b[0m\u001b[1;33m\u001b[0m\u001b[1;33m\u001b[0m\u001b[0m\n\u001b[0;32m     75\u001b[0m \u001b[1;33m\u001b[0m\u001b[0m\n",
      "\u001b[1;32mD:\\Anaconda\\lib\\site-packages\\sklearn\\model_selection\\_search.py\u001b[0m in \u001b[0;36mfit\u001b[1;34m(self, X, y, groups, **fit_params)\u001b[0m\n\u001b[0;32m    734\u001b[0m                 \u001b[1;32mreturn\u001b[0m \u001b[0mresults\u001b[0m\u001b[1;33m\u001b[0m\u001b[1;33m\u001b[0m\u001b[0m\n\u001b[0;32m    735\u001b[0m \u001b[1;33m\u001b[0m\u001b[0m\n\u001b[1;32m--> 736\u001b[1;33m             \u001b[0mself\u001b[0m\u001b[1;33m.\u001b[0m\u001b[0m_run_search\u001b[0m\u001b[1;33m(\u001b[0m\u001b[0mevaluate_candidates\u001b[0m\u001b[1;33m)\u001b[0m\u001b[1;33m\u001b[0m\u001b[1;33m\u001b[0m\u001b[0m\n\u001b[0m\u001b[0;32m    737\u001b[0m \u001b[1;33m\u001b[0m\u001b[0m\n\u001b[0;32m    738\u001b[0m         \u001b[1;31m# For multi-metric evaluation, store the best_index_, best_params_ and\u001b[0m\u001b[1;33m\u001b[0m\u001b[1;33m\u001b[0m\u001b[1;33m\u001b[0m\u001b[0m\n",
      "\u001b[1;32mD:\\Anaconda\\lib\\site-packages\\sklearn\\model_selection\\_search.py\u001b[0m in \u001b[0;36m_run_search\u001b[1;34m(self, evaluate_candidates)\u001b[0m\n\u001b[0;32m   1186\u001b[0m     \u001b[1;32mdef\u001b[0m \u001b[0m_run_search\u001b[0m\u001b[1;33m(\u001b[0m\u001b[0mself\u001b[0m\u001b[1;33m,\u001b[0m \u001b[0mevaluate_candidates\u001b[0m\u001b[1;33m)\u001b[0m\u001b[1;33m:\u001b[0m\u001b[1;33m\u001b[0m\u001b[1;33m\u001b[0m\u001b[0m\n\u001b[0;32m   1187\u001b[0m         \u001b[1;34m\"\"\"Search all candidates in param_grid\"\"\"\u001b[0m\u001b[1;33m\u001b[0m\u001b[1;33m\u001b[0m\u001b[0m\n\u001b[1;32m-> 1188\u001b[1;33m         \u001b[0mevaluate_candidates\u001b[0m\u001b[1;33m(\u001b[0m\u001b[0mParameterGrid\u001b[0m\u001b[1;33m(\u001b[0m\u001b[0mself\u001b[0m\u001b[1;33m.\u001b[0m\u001b[0mparam_grid\u001b[0m\u001b[1;33m)\u001b[0m\u001b[1;33m)\u001b[0m\u001b[1;33m\u001b[0m\u001b[1;33m\u001b[0m\u001b[0m\n\u001b[0m\u001b[0;32m   1189\u001b[0m \u001b[1;33m\u001b[0m\u001b[0m\n\u001b[0;32m   1190\u001b[0m \u001b[1;33m\u001b[0m\u001b[0m\n",
      "\u001b[1;32mD:\\Anaconda\\lib\\site-packages\\sklearn\\model_selection\\_search.py\u001b[0m in \u001b[0;36mevaluate_candidates\u001b[1;34m(candidate_params)\u001b[0m\n\u001b[0;32m    713\u001b[0m                                \u001b[1;32mfor\u001b[0m \u001b[0mparameters\u001b[0m\u001b[1;33m,\u001b[0m \u001b[1;33m(\u001b[0m\u001b[0mtrain\u001b[0m\u001b[1;33m,\u001b[0m \u001b[0mtest\u001b[0m\u001b[1;33m)\u001b[0m\u001b[1;33m\u001b[0m\u001b[1;33m\u001b[0m\u001b[0m\n\u001b[0;32m    714\u001b[0m                                in product(candidate_params,\n\u001b[1;32m--> 715\u001b[1;33m                                           cv.split(X, y, groups)))\n\u001b[0m\u001b[0;32m    716\u001b[0m \u001b[1;33m\u001b[0m\u001b[0m\n\u001b[0;32m    717\u001b[0m                 \u001b[1;32mif\u001b[0m \u001b[0mlen\u001b[0m\u001b[1;33m(\u001b[0m\u001b[0mout\u001b[0m\u001b[1;33m)\u001b[0m \u001b[1;33m<\u001b[0m \u001b[1;36m1\u001b[0m\u001b[1;33m:\u001b[0m\u001b[1;33m\u001b[0m\u001b[1;33m\u001b[0m\u001b[0m\n",
      "\u001b[1;32mD:\\Anaconda\\lib\\site-packages\\joblib\\parallel.py\u001b[0m in \u001b[0;36m__call__\u001b[1;34m(self, iterable)\u001b[0m\n\u001b[0;32m   1027\u001b[0m             \u001b[1;31m# remaining jobs.\u001b[0m\u001b[1;33m\u001b[0m\u001b[1;33m\u001b[0m\u001b[1;33m\u001b[0m\u001b[0m\n\u001b[0;32m   1028\u001b[0m             \u001b[0mself\u001b[0m\u001b[1;33m.\u001b[0m\u001b[0m_iterating\u001b[0m \u001b[1;33m=\u001b[0m \u001b[1;32mFalse\u001b[0m\u001b[1;33m\u001b[0m\u001b[1;33m\u001b[0m\u001b[0m\n\u001b[1;32m-> 1029\u001b[1;33m             \u001b[1;32mif\u001b[0m \u001b[0mself\u001b[0m\u001b[1;33m.\u001b[0m\u001b[0mdispatch_one_batch\u001b[0m\u001b[1;33m(\u001b[0m\u001b[0miterator\u001b[0m\u001b[1;33m)\u001b[0m\u001b[1;33m:\u001b[0m\u001b[1;33m\u001b[0m\u001b[1;33m\u001b[0m\u001b[0m\n\u001b[0m\u001b[0;32m   1030\u001b[0m                 \u001b[0mself\u001b[0m\u001b[1;33m.\u001b[0m\u001b[0m_iterating\u001b[0m \u001b[1;33m=\u001b[0m \u001b[0mself\u001b[0m\u001b[1;33m.\u001b[0m\u001b[0m_original_iterator\u001b[0m \u001b[1;32mis\u001b[0m \u001b[1;32mnot\u001b[0m \u001b[1;32mNone\u001b[0m\u001b[1;33m\u001b[0m\u001b[1;33m\u001b[0m\u001b[0m\n\u001b[0;32m   1031\u001b[0m \u001b[1;33m\u001b[0m\u001b[0m\n",
      "\u001b[1;32mD:\\Anaconda\\lib\\site-packages\\joblib\\parallel.py\u001b[0m in \u001b[0;36mdispatch_one_batch\u001b[1;34m(self, iterator)\u001b[0m\n\u001b[0;32m    845\u001b[0m                 \u001b[1;32mreturn\u001b[0m \u001b[1;32mFalse\u001b[0m\u001b[1;33m\u001b[0m\u001b[1;33m\u001b[0m\u001b[0m\n\u001b[0;32m    846\u001b[0m             \u001b[1;32melse\u001b[0m\u001b[1;33m:\u001b[0m\u001b[1;33m\u001b[0m\u001b[1;33m\u001b[0m\u001b[0m\n\u001b[1;32m--> 847\u001b[1;33m                 \u001b[0mself\u001b[0m\u001b[1;33m.\u001b[0m\u001b[0m_dispatch\u001b[0m\u001b[1;33m(\u001b[0m\u001b[0mtasks\u001b[0m\u001b[1;33m)\u001b[0m\u001b[1;33m\u001b[0m\u001b[1;33m\u001b[0m\u001b[0m\n\u001b[0m\u001b[0;32m    848\u001b[0m                 \u001b[1;32mreturn\u001b[0m \u001b[1;32mTrue\u001b[0m\u001b[1;33m\u001b[0m\u001b[1;33m\u001b[0m\u001b[0m\n\u001b[0;32m    849\u001b[0m \u001b[1;33m\u001b[0m\u001b[0m\n",
      "\u001b[1;32mD:\\Anaconda\\lib\\site-packages\\joblib\\parallel.py\u001b[0m in \u001b[0;36m_dispatch\u001b[1;34m(self, batch)\u001b[0m\n\u001b[0;32m    763\u001b[0m         \u001b[1;32mwith\u001b[0m \u001b[0mself\u001b[0m\u001b[1;33m.\u001b[0m\u001b[0m_lock\u001b[0m\u001b[1;33m:\u001b[0m\u001b[1;33m\u001b[0m\u001b[1;33m\u001b[0m\u001b[0m\n\u001b[0;32m    764\u001b[0m             \u001b[0mjob_idx\u001b[0m \u001b[1;33m=\u001b[0m \u001b[0mlen\u001b[0m\u001b[1;33m(\u001b[0m\u001b[0mself\u001b[0m\u001b[1;33m.\u001b[0m\u001b[0m_jobs\u001b[0m\u001b[1;33m)\u001b[0m\u001b[1;33m\u001b[0m\u001b[1;33m\u001b[0m\u001b[0m\n\u001b[1;32m--> 765\u001b[1;33m             \u001b[0mjob\u001b[0m \u001b[1;33m=\u001b[0m \u001b[0mself\u001b[0m\u001b[1;33m.\u001b[0m\u001b[0m_backend\u001b[0m\u001b[1;33m.\u001b[0m\u001b[0mapply_async\u001b[0m\u001b[1;33m(\u001b[0m\u001b[0mbatch\u001b[0m\u001b[1;33m,\u001b[0m \u001b[0mcallback\u001b[0m\u001b[1;33m=\u001b[0m\u001b[0mcb\u001b[0m\u001b[1;33m)\u001b[0m\u001b[1;33m\u001b[0m\u001b[1;33m\u001b[0m\u001b[0m\n\u001b[0m\u001b[0;32m    766\u001b[0m             \u001b[1;31m# A job can complete so quickly than its callback is\u001b[0m\u001b[1;33m\u001b[0m\u001b[1;33m\u001b[0m\u001b[1;33m\u001b[0m\u001b[0m\n\u001b[0;32m    767\u001b[0m             \u001b[1;31m# called before we get here, causing self._jobs to\u001b[0m\u001b[1;33m\u001b[0m\u001b[1;33m\u001b[0m\u001b[1;33m\u001b[0m\u001b[0m\n",
      "\u001b[1;32mD:\\Anaconda\\lib\\site-packages\\joblib\\_parallel_backends.py\u001b[0m in \u001b[0;36mapply_async\u001b[1;34m(self, func, callback)\u001b[0m\n\u001b[0;32m    206\u001b[0m     \u001b[1;32mdef\u001b[0m \u001b[0mapply_async\u001b[0m\u001b[1;33m(\u001b[0m\u001b[0mself\u001b[0m\u001b[1;33m,\u001b[0m \u001b[0mfunc\u001b[0m\u001b[1;33m,\u001b[0m \u001b[0mcallback\u001b[0m\u001b[1;33m=\u001b[0m\u001b[1;32mNone\u001b[0m\u001b[1;33m)\u001b[0m\u001b[1;33m:\u001b[0m\u001b[1;33m\u001b[0m\u001b[1;33m\u001b[0m\u001b[0m\n\u001b[0;32m    207\u001b[0m         \u001b[1;34m\"\"\"Schedule a func to be run\"\"\"\u001b[0m\u001b[1;33m\u001b[0m\u001b[1;33m\u001b[0m\u001b[0m\n\u001b[1;32m--> 208\u001b[1;33m         \u001b[0mresult\u001b[0m \u001b[1;33m=\u001b[0m \u001b[0mImmediateResult\u001b[0m\u001b[1;33m(\u001b[0m\u001b[0mfunc\u001b[0m\u001b[1;33m)\u001b[0m\u001b[1;33m\u001b[0m\u001b[1;33m\u001b[0m\u001b[0m\n\u001b[0m\u001b[0;32m    209\u001b[0m         \u001b[1;32mif\u001b[0m \u001b[0mcallback\u001b[0m\u001b[1;33m:\u001b[0m\u001b[1;33m\u001b[0m\u001b[1;33m\u001b[0m\u001b[0m\n\u001b[0;32m    210\u001b[0m             \u001b[0mcallback\u001b[0m\u001b[1;33m(\u001b[0m\u001b[0mresult\u001b[0m\u001b[1;33m)\u001b[0m\u001b[1;33m\u001b[0m\u001b[1;33m\u001b[0m\u001b[0m\n",
      "\u001b[1;32mD:\\Anaconda\\lib\\site-packages\\joblib\\_parallel_backends.py\u001b[0m in \u001b[0;36m__init__\u001b[1;34m(self, batch)\u001b[0m\n\u001b[0;32m    570\u001b[0m         \u001b[1;31m# Don't delay the application, to avoid keeping the input\u001b[0m\u001b[1;33m\u001b[0m\u001b[1;33m\u001b[0m\u001b[1;33m\u001b[0m\u001b[0m\n\u001b[0;32m    571\u001b[0m         \u001b[1;31m# arguments in memory\u001b[0m\u001b[1;33m\u001b[0m\u001b[1;33m\u001b[0m\u001b[1;33m\u001b[0m\u001b[0m\n\u001b[1;32m--> 572\u001b[1;33m         \u001b[0mself\u001b[0m\u001b[1;33m.\u001b[0m\u001b[0mresults\u001b[0m \u001b[1;33m=\u001b[0m \u001b[0mbatch\u001b[0m\u001b[1;33m(\u001b[0m\u001b[1;33m)\u001b[0m\u001b[1;33m\u001b[0m\u001b[1;33m\u001b[0m\u001b[0m\n\u001b[0m\u001b[0;32m    573\u001b[0m \u001b[1;33m\u001b[0m\u001b[0m\n\u001b[0;32m    574\u001b[0m     \u001b[1;32mdef\u001b[0m \u001b[0mget\u001b[0m\u001b[1;33m(\u001b[0m\u001b[0mself\u001b[0m\u001b[1;33m)\u001b[0m\u001b[1;33m:\u001b[0m\u001b[1;33m\u001b[0m\u001b[1;33m\u001b[0m\u001b[0m\n",
      "\u001b[1;32mD:\\Anaconda\\lib\\site-packages\\joblib\\parallel.py\u001b[0m in \u001b[0;36m__call__\u001b[1;34m(self)\u001b[0m\n\u001b[0;32m    251\u001b[0m         \u001b[1;32mwith\u001b[0m \u001b[0mparallel_backend\u001b[0m\u001b[1;33m(\u001b[0m\u001b[0mself\u001b[0m\u001b[1;33m.\u001b[0m\u001b[0m_backend\u001b[0m\u001b[1;33m,\u001b[0m \u001b[0mn_jobs\u001b[0m\u001b[1;33m=\u001b[0m\u001b[0mself\u001b[0m\u001b[1;33m.\u001b[0m\u001b[0m_n_jobs\u001b[0m\u001b[1;33m)\u001b[0m\u001b[1;33m:\u001b[0m\u001b[1;33m\u001b[0m\u001b[1;33m\u001b[0m\u001b[0m\n\u001b[0;32m    252\u001b[0m             return [func(*args, **kwargs)\n\u001b[1;32m--> 253\u001b[1;33m                     for func, args, kwargs in self.items]\n\u001b[0m\u001b[0;32m    254\u001b[0m \u001b[1;33m\u001b[0m\u001b[0m\n\u001b[0;32m    255\u001b[0m     \u001b[1;32mdef\u001b[0m \u001b[0m__reduce__\u001b[0m\u001b[1;33m(\u001b[0m\u001b[0mself\u001b[0m\u001b[1;33m)\u001b[0m\u001b[1;33m:\u001b[0m\u001b[1;33m\u001b[0m\u001b[1;33m\u001b[0m\u001b[0m\n",
      "\u001b[1;32mD:\\Anaconda\\lib\\site-packages\\joblib\\parallel.py\u001b[0m in \u001b[0;36m<listcomp>\u001b[1;34m(.0)\u001b[0m\n\u001b[0;32m    251\u001b[0m         \u001b[1;32mwith\u001b[0m \u001b[0mparallel_backend\u001b[0m\u001b[1;33m(\u001b[0m\u001b[0mself\u001b[0m\u001b[1;33m.\u001b[0m\u001b[0m_backend\u001b[0m\u001b[1;33m,\u001b[0m \u001b[0mn_jobs\u001b[0m\u001b[1;33m=\u001b[0m\u001b[0mself\u001b[0m\u001b[1;33m.\u001b[0m\u001b[0m_n_jobs\u001b[0m\u001b[1;33m)\u001b[0m\u001b[1;33m:\u001b[0m\u001b[1;33m\u001b[0m\u001b[1;33m\u001b[0m\u001b[0m\n\u001b[0;32m    252\u001b[0m             return [func(*args, **kwargs)\n\u001b[1;32m--> 253\u001b[1;33m                     for func, args, kwargs in self.items]\n\u001b[0m\u001b[0;32m    254\u001b[0m \u001b[1;33m\u001b[0m\u001b[0m\n\u001b[0;32m    255\u001b[0m     \u001b[1;32mdef\u001b[0m \u001b[0m__reduce__\u001b[0m\u001b[1;33m(\u001b[0m\u001b[0mself\u001b[0m\u001b[1;33m)\u001b[0m\u001b[1;33m:\u001b[0m\u001b[1;33m\u001b[0m\u001b[1;33m\u001b[0m\u001b[0m\n",
      "\u001b[1;32mD:\\Anaconda\\lib\\site-packages\\sklearn\\model_selection\\_validation.py\u001b[0m in \u001b[0;36m_fit_and_score\u001b[1;34m(estimator, X, y, scorer, train, test, verbose, parameters, fit_params, return_train_score, return_parameters, return_n_test_samples, return_times, return_estimator, error_score)\u001b[0m\n\u001b[0;32m    529\u001b[0m             \u001b[0mestimator\u001b[0m\u001b[1;33m.\u001b[0m\u001b[0mfit\u001b[0m\u001b[1;33m(\u001b[0m\u001b[0mX_train\u001b[0m\u001b[1;33m,\u001b[0m \u001b[1;33m**\u001b[0m\u001b[0mfit_params\u001b[0m\u001b[1;33m)\u001b[0m\u001b[1;33m\u001b[0m\u001b[1;33m\u001b[0m\u001b[0m\n\u001b[0;32m    530\u001b[0m         \u001b[1;32melse\u001b[0m\u001b[1;33m:\u001b[0m\u001b[1;33m\u001b[0m\u001b[1;33m\u001b[0m\u001b[0m\n\u001b[1;32m--> 531\u001b[1;33m             \u001b[0mestimator\u001b[0m\u001b[1;33m.\u001b[0m\u001b[0mfit\u001b[0m\u001b[1;33m(\u001b[0m\u001b[0mX_train\u001b[0m\u001b[1;33m,\u001b[0m \u001b[0my_train\u001b[0m\u001b[1;33m,\u001b[0m \u001b[1;33m**\u001b[0m\u001b[0mfit_params\u001b[0m\u001b[1;33m)\u001b[0m\u001b[1;33m\u001b[0m\u001b[1;33m\u001b[0m\u001b[0m\n\u001b[0m\u001b[0;32m    532\u001b[0m \u001b[1;33m\u001b[0m\u001b[0m\n\u001b[0;32m    533\u001b[0m     \u001b[1;32mexcept\u001b[0m \u001b[0mException\u001b[0m \u001b[1;32mas\u001b[0m \u001b[0me\u001b[0m\u001b[1;33m:\u001b[0m\u001b[1;33m\u001b[0m\u001b[1;33m\u001b[0m\u001b[0m\n",
      "\u001b[1;32mD:\\Anaconda\\lib\\site-packages\\sklearn\\pipeline.py\u001b[0m in \u001b[0;36mfit\u001b[1;34m(self, X, y, **fit_params)\u001b[0m\n\u001b[0;32m    333\u001b[0m             \u001b[1;32mif\u001b[0m \u001b[0mself\u001b[0m\u001b[1;33m.\u001b[0m\u001b[0m_final_estimator\u001b[0m \u001b[1;33m!=\u001b[0m \u001b[1;34m'passthrough'\u001b[0m\u001b[1;33m:\u001b[0m\u001b[1;33m\u001b[0m\u001b[1;33m\u001b[0m\u001b[0m\n\u001b[0;32m    334\u001b[0m                 \u001b[0mfit_params_last_step\u001b[0m \u001b[1;33m=\u001b[0m \u001b[0mfit_params_steps\u001b[0m\u001b[1;33m[\u001b[0m\u001b[0mself\u001b[0m\u001b[1;33m.\u001b[0m\u001b[0msteps\u001b[0m\u001b[1;33m[\u001b[0m\u001b[1;33m-\u001b[0m\u001b[1;36m1\u001b[0m\u001b[1;33m]\u001b[0m\u001b[1;33m[\u001b[0m\u001b[1;36m0\u001b[0m\u001b[1;33m]\u001b[0m\u001b[1;33m]\u001b[0m\u001b[1;33m\u001b[0m\u001b[1;33m\u001b[0m\u001b[0m\n\u001b[1;32m--> 335\u001b[1;33m                 \u001b[0mself\u001b[0m\u001b[1;33m.\u001b[0m\u001b[0m_final_estimator\u001b[0m\u001b[1;33m.\u001b[0m\u001b[0mfit\u001b[0m\u001b[1;33m(\u001b[0m\u001b[0mXt\u001b[0m\u001b[1;33m,\u001b[0m \u001b[0my\u001b[0m\u001b[1;33m,\u001b[0m \u001b[1;33m**\u001b[0m\u001b[0mfit_params_last_step\u001b[0m\u001b[1;33m)\u001b[0m\u001b[1;33m\u001b[0m\u001b[1;33m\u001b[0m\u001b[0m\n\u001b[0m\u001b[0;32m    336\u001b[0m \u001b[1;33m\u001b[0m\u001b[0m\n\u001b[0;32m    337\u001b[0m         \u001b[1;32mreturn\u001b[0m \u001b[0mself\u001b[0m\u001b[1;33m\u001b[0m\u001b[1;33m\u001b[0m\u001b[0m\n",
      "\u001b[1;32mD:\\Anaconda\\lib\\site-packages\\skmultilearn\\problem_transform\\br.py\u001b[0m in \u001b[0;36mfit\u001b[1;34m(self, X, y)\u001b[0m\n\u001b[0;32m    160\u001b[0m                 \u001b[0my_subset\u001b[0m \u001b[1;33m=\u001b[0m \u001b[0mnp\u001b[0m\u001b[1;33m.\u001b[0m\u001b[0mravel\u001b[0m\u001b[1;33m(\u001b[0m\u001b[0my_subset\u001b[0m\u001b[1;33m.\u001b[0m\u001b[0mtoarray\u001b[0m\u001b[1;33m(\u001b[0m\u001b[1;33m)\u001b[0m\u001b[1;33m)\u001b[0m\u001b[1;33m\u001b[0m\u001b[1;33m\u001b[0m\u001b[0m\n\u001b[0;32m    161\u001b[0m             classifier.fit(self._ensure_input_format(\n\u001b[1;32m--> 162\u001b[1;33m                 X), self._ensure_output_format(y_subset))\n\u001b[0m\u001b[0;32m    163\u001b[0m             \u001b[0mself\u001b[0m\u001b[1;33m.\u001b[0m\u001b[0mclassifiers_\u001b[0m\u001b[1;33m.\u001b[0m\u001b[0mappend\u001b[0m\u001b[1;33m(\u001b[0m\u001b[0mclassifier\u001b[0m\u001b[1;33m)\u001b[0m\u001b[1;33m\u001b[0m\u001b[1;33m\u001b[0m\u001b[0m\n\u001b[0;32m    164\u001b[0m \u001b[1;33m\u001b[0m\u001b[0m\n",
      "\u001b[1;32mD:\\Anaconda\\lib\\site-packages\\sklearn\\linear_model\\_logistic.py\u001b[0m in \u001b[0;36mfit\u001b[1;34m(self, X, y, sample_weight)\u001b[0m\n\u001b[0;32m   1415\u001b[0m                       \u001b[0mpenalty\u001b[0m\u001b[1;33m=\u001b[0m\u001b[0mpenalty\u001b[0m\u001b[1;33m,\u001b[0m \u001b[0mmax_squared_sum\u001b[0m\u001b[1;33m=\u001b[0m\u001b[0mmax_squared_sum\u001b[0m\u001b[1;33m,\u001b[0m\u001b[1;33m\u001b[0m\u001b[1;33m\u001b[0m\u001b[0m\n\u001b[0;32m   1416\u001b[0m                       sample_weight=sample_weight)\n\u001b[1;32m-> 1417\u001b[1;33m             for class_, warm_start_coef_ in zip(classes_, warm_start_coef))\n\u001b[0m\u001b[0;32m   1418\u001b[0m \u001b[1;33m\u001b[0m\u001b[0m\n\u001b[0;32m   1419\u001b[0m         \u001b[0mfold_coefs_\u001b[0m\u001b[1;33m,\u001b[0m \u001b[0m_\u001b[0m\u001b[1;33m,\u001b[0m \u001b[0mn_iter_\u001b[0m \u001b[1;33m=\u001b[0m \u001b[0mzip\u001b[0m\u001b[1;33m(\u001b[0m\u001b[1;33m*\u001b[0m\u001b[0mfold_coefs_\u001b[0m\u001b[1;33m)\u001b[0m\u001b[1;33m\u001b[0m\u001b[1;33m\u001b[0m\u001b[0m\n",
      "\u001b[1;32mD:\\Anaconda\\lib\\site-packages\\joblib\\parallel.py\u001b[0m in \u001b[0;36m__call__\u001b[1;34m(self, iterable)\u001b[0m\n\u001b[0;32m   1040\u001b[0m \u001b[1;33m\u001b[0m\u001b[0m\n\u001b[0;32m   1041\u001b[0m             \u001b[1;32mwith\u001b[0m \u001b[0mself\u001b[0m\u001b[1;33m.\u001b[0m\u001b[0m_backend\u001b[0m\u001b[1;33m.\u001b[0m\u001b[0mretrieval_context\u001b[0m\u001b[1;33m(\u001b[0m\u001b[1;33m)\u001b[0m\u001b[1;33m:\u001b[0m\u001b[1;33m\u001b[0m\u001b[1;33m\u001b[0m\u001b[0m\n\u001b[1;32m-> 1042\u001b[1;33m                 \u001b[0mself\u001b[0m\u001b[1;33m.\u001b[0m\u001b[0mretrieve\u001b[0m\u001b[1;33m(\u001b[0m\u001b[1;33m)\u001b[0m\u001b[1;33m\u001b[0m\u001b[1;33m\u001b[0m\u001b[0m\n\u001b[0m\u001b[0;32m   1043\u001b[0m             \u001b[1;31m# Make sure that we get a last message telling us we are done\u001b[0m\u001b[1;33m\u001b[0m\u001b[1;33m\u001b[0m\u001b[1;33m\u001b[0m\u001b[0m\n\u001b[0;32m   1044\u001b[0m             \u001b[0melapsed_time\u001b[0m \u001b[1;33m=\u001b[0m \u001b[0mtime\u001b[0m\u001b[1;33m.\u001b[0m\u001b[0mtime\u001b[0m\u001b[1;33m(\u001b[0m\u001b[1;33m)\u001b[0m \u001b[1;33m-\u001b[0m \u001b[0mself\u001b[0m\u001b[1;33m.\u001b[0m\u001b[0m_start_time\u001b[0m\u001b[1;33m\u001b[0m\u001b[1;33m\u001b[0m\u001b[0m\n",
      "\u001b[1;32mD:\\Anaconda\\lib\\site-packages\\joblib\\parallel.py\u001b[0m in \u001b[0;36mretrieve\u001b[1;34m(self)\u001b[0m\n\u001b[0;32m    919\u001b[0m             \u001b[1;32mtry\u001b[0m\u001b[1;33m:\u001b[0m\u001b[1;33m\u001b[0m\u001b[1;33m\u001b[0m\u001b[0m\n\u001b[0;32m    920\u001b[0m                 \u001b[1;32mif\u001b[0m \u001b[0mgetattr\u001b[0m\u001b[1;33m(\u001b[0m\u001b[0mself\u001b[0m\u001b[1;33m.\u001b[0m\u001b[0m_backend\u001b[0m\u001b[1;33m,\u001b[0m \u001b[1;34m'supports_timeout'\u001b[0m\u001b[1;33m,\u001b[0m \u001b[1;32mFalse\u001b[0m\u001b[1;33m)\u001b[0m\u001b[1;33m:\u001b[0m\u001b[1;33m\u001b[0m\u001b[1;33m\u001b[0m\u001b[0m\n\u001b[1;32m--> 921\u001b[1;33m                     \u001b[0mself\u001b[0m\u001b[1;33m.\u001b[0m\u001b[0m_output\u001b[0m\u001b[1;33m.\u001b[0m\u001b[0mextend\u001b[0m\u001b[1;33m(\u001b[0m\u001b[0mjob\u001b[0m\u001b[1;33m.\u001b[0m\u001b[0mget\u001b[0m\u001b[1;33m(\u001b[0m\u001b[0mtimeout\u001b[0m\u001b[1;33m=\u001b[0m\u001b[0mself\u001b[0m\u001b[1;33m.\u001b[0m\u001b[0mtimeout\u001b[0m\u001b[1;33m)\u001b[0m\u001b[1;33m)\u001b[0m\u001b[1;33m\u001b[0m\u001b[1;33m\u001b[0m\u001b[0m\n\u001b[0m\u001b[0;32m    922\u001b[0m                 \u001b[1;32melse\u001b[0m\u001b[1;33m:\u001b[0m\u001b[1;33m\u001b[0m\u001b[1;33m\u001b[0m\u001b[0m\n\u001b[0;32m    923\u001b[0m                     \u001b[0mself\u001b[0m\u001b[1;33m.\u001b[0m\u001b[0m_output\u001b[0m\u001b[1;33m.\u001b[0m\u001b[0mextend\u001b[0m\u001b[1;33m(\u001b[0m\u001b[0mjob\u001b[0m\u001b[1;33m.\u001b[0m\u001b[0mget\u001b[0m\u001b[1;33m(\u001b[0m\u001b[1;33m)\u001b[0m\u001b[1;33m)\u001b[0m\u001b[1;33m\u001b[0m\u001b[1;33m\u001b[0m\u001b[0m\n",
      "\u001b[1;32mD:\\Anaconda\\lib\\site-packages\\joblib\\_parallel_backends.py\u001b[0m in \u001b[0;36mwrap_future_result\u001b[1;34m(future, timeout)\u001b[0m\n\u001b[0;32m    540\u001b[0m         AsyncResults.get from multiprocessing.\"\"\"\n\u001b[0;32m    541\u001b[0m         \u001b[1;32mtry\u001b[0m\u001b[1;33m:\u001b[0m\u001b[1;33m\u001b[0m\u001b[1;33m\u001b[0m\u001b[0m\n\u001b[1;32m--> 542\u001b[1;33m             \u001b[1;32mreturn\u001b[0m \u001b[0mfuture\u001b[0m\u001b[1;33m.\u001b[0m\u001b[0mresult\u001b[0m\u001b[1;33m(\u001b[0m\u001b[0mtimeout\u001b[0m\u001b[1;33m=\u001b[0m\u001b[0mtimeout\u001b[0m\u001b[1;33m)\u001b[0m\u001b[1;33m\u001b[0m\u001b[1;33m\u001b[0m\u001b[0m\n\u001b[0m\u001b[0;32m    543\u001b[0m         \u001b[1;32mexcept\u001b[0m \u001b[0mCfTimeoutError\u001b[0m \u001b[1;32mas\u001b[0m \u001b[0me\u001b[0m\u001b[1;33m:\u001b[0m\u001b[1;33m\u001b[0m\u001b[1;33m\u001b[0m\u001b[0m\n\u001b[0;32m    544\u001b[0m             \u001b[1;32mraise\u001b[0m \u001b[0mTimeoutError\u001b[0m \u001b[1;32mfrom\u001b[0m \u001b[0me\u001b[0m\u001b[1;33m\u001b[0m\u001b[1;33m\u001b[0m\u001b[0m\n",
      "\u001b[1;32mD:\\Anaconda\\lib\\concurrent\\futures\\_base.py\u001b[0m in \u001b[0;36mresult\u001b[1;34m(self, timeout)\u001b[0m\n\u001b[0;32m    428\u001b[0m                 \u001b[1;32mreturn\u001b[0m \u001b[0mself\u001b[0m\u001b[1;33m.\u001b[0m\u001b[0m__get_result\u001b[0m\u001b[1;33m(\u001b[0m\u001b[1;33m)\u001b[0m\u001b[1;33m\u001b[0m\u001b[1;33m\u001b[0m\u001b[0m\n\u001b[0;32m    429\u001b[0m \u001b[1;33m\u001b[0m\u001b[0m\n\u001b[1;32m--> 430\u001b[1;33m             \u001b[0mself\u001b[0m\u001b[1;33m.\u001b[0m\u001b[0m_condition\u001b[0m\u001b[1;33m.\u001b[0m\u001b[0mwait\u001b[0m\u001b[1;33m(\u001b[0m\u001b[0mtimeout\u001b[0m\u001b[1;33m)\u001b[0m\u001b[1;33m\u001b[0m\u001b[1;33m\u001b[0m\u001b[0m\n\u001b[0m\u001b[0;32m    431\u001b[0m \u001b[1;33m\u001b[0m\u001b[0m\n\u001b[0;32m    432\u001b[0m             \u001b[1;32mif\u001b[0m \u001b[0mself\u001b[0m\u001b[1;33m.\u001b[0m\u001b[0m_state\u001b[0m \u001b[1;32min\u001b[0m \u001b[1;33m[\u001b[0m\u001b[0mCANCELLED\u001b[0m\u001b[1;33m,\u001b[0m \u001b[0mCANCELLED_AND_NOTIFIED\u001b[0m\u001b[1;33m]\u001b[0m\u001b[1;33m:\u001b[0m\u001b[1;33m\u001b[0m\u001b[1;33m\u001b[0m\u001b[0m\n",
      "\u001b[1;32mD:\\Anaconda\\lib\\threading.py\u001b[0m in \u001b[0;36mwait\u001b[1;34m(self, timeout)\u001b[0m\n\u001b[0;32m    294\u001b[0m         \u001b[1;32mtry\u001b[0m\u001b[1;33m:\u001b[0m    \u001b[1;31m# restore state no matter what (e.g., KeyboardInterrupt)\u001b[0m\u001b[1;33m\u001b[0m\u001b[1;33m\u001b[0m\u001b[0m\n\u001b[0;32m    295\u001b[0m             \u001b[1;32mif\u001b[0m \u001b[0mtimeout\u001b[0m \u001b[1;32mis\u001b[0m \u001b[1;32mNone\u001b[0m\u001b[1;33m:\u001b[0m\u001b[1;33m\u001b[0m\u001b[1;33m\u001b[0m\u001b[0m\n\u001b[1;32m--> 296\u001b[1;33m                 \u001b[0mwaiter\u001b[0m\u001b[1;33m.\u001b[0m\u001b[0macquire\u001b[0m\u001b[1;33m(\u001b[0m\u001b[1;33m)\u001b[0m\u001b[1;33m\u001b[0m\u001b[1;33m\u001b[0m\u001b[0m\n\u001b[0m\u001b[0;32m    297\u001b[0m                 \u001b[0mgotit\u001b[0m \u001b[1;33m=\u001b[0m \u001b[1;32mTrue\u001b[0m\u001b[1;33m\u001b[0m\u001b[1;33m\u001b[0m\u001b[0m\n\u001b[0;32m    298\u001b[0m             \u001b[1;32melse\u001b[0m\u001b[1;33m:\u001b[0m\u001b[1;33m\u001b[0m\u001b[1;33m\u001b[0m\u001b[0m\n",
      "\u001b[1;31mKeyboardInterrupt\u001b[0m: "
     ]
    }
   ],
   "source": [
    "#Logistic Regression\n",
    "\n",
    "algorithm_index = 0\n",
    "\n",
    "logistic_grid_results = {}\n",
    "logistic_grid_pipeline = get_baseline_pipeline(algorithm_index)\n",
    "\n",
    "for method_index in range(len(methods)): # CHange 1 to zero\n",
    "    suffix = 'Grid_' + ML_algo_names[algorithm_index] + '_' + methods[method_index]\n",
    "    print(suffix)\n",
    "    \n",
    "    logistic_grid_results[suffix] = {}\n",
    "    \n",
    "    if method_index == 0:\n",
    "        clf_param_name = 'estimator'\n",
    "    else:\n",
    "        clf_param_name = 'classifier'\n",
    "        \n",
    "    logistic_param_grid = {\n",
    "        'clf__' + clf_param_name + '__solver' : ['newton-cg', 'saga'],\n",
    "        'clf__' + clf_param_name + '__penalty' : ['l2'],\n",
    "        'clf__' + clf_param_name + '__C' : [0.7, 0.8, 0.9],\n",
    "        'clf__' + clf_param_name + '__max_iter' : [1000, 1500],\n",
    "        'clf__' + clf_param_name + '__n_jobs' : [-1],  #CHANGE YOUR N_JOBS HERE\n",
    "        'tfidf_pipeline__tfidf_vectorizer__ngram_range' : [(1,1), (1,2), (1,3)]\n",
    "    }  \n",
    "    \n",
    "    cv_split = ShuffleSplit(n_splits = 3, test_size = .1, random_state = 42)\n",
    "    \n",
    "    logistic_grid_search = GridSearchCV(\n",
    "        estimator=logistic_grid_pipeline[method_index], param_grid=logistic_param_grid,\n",
    "        scoring='accuracy', cv=cv_split, verbose=1, n_jobs=-1, refit=True\n",
    "    )\n",
    "\n",
    "    if method_index == 0:\n",
    "        class_predictions = []\n",
    "        test_predictions = []\n",
    "        for label in output_labels:\n",
    "            logistic_grid_results[suffix + '_' + label] = {}\n",
    "            print('... Processing {}'.format(label))\n",
    "            logistic_grid_search.fit(X_train, np.array(data[label]))\n",
    "            print('Train Score : ', logistic_grid_search.score(X_train, np.array(data[label])))\n",
    "            \n",
    "            logistic_grid_results[suffix + '_' + label].update({'train_score' : logistic_grid_search.score(X_train, np.array(data[label]))})\n",
    "            logistic_grid_results[suffix + '_' + label].update({'best_params' : logistic_grid_search.best_params_})\n",
    "            logistic_grid_results[suffix + '_' + label].update({'best_estimator_score' : logistic_grid_search.best_estimator_.score(X_train, np.array(data[label]))})\n",
    "            \n",
    "            class_predictions.append(logistic_grid_search.predict(X_train))\n",
    "            test_predictions.append(logistic_grid_search.predict(X_test))\n",
    "        \n",
    "        pd.DataFrame(np.array(class_predictions)).T.to_csv(suffix + '_' + \"OVR.csv\")\n",
    "        pd.DataFrame(np.array(test_predictions)).T.to_csv(\"test_pred_\" + suffix + '_' + \"OVR.csv\")\n",
    "        logistic_grid_results[suffix + '_' + 'OVR'] = {}\n",
    "        logistic_grid_results[suffix + '_' + 'OVR'].update({'full_train_score' : calculate_OVR_overall_accuracy(y_train, np.array(class_predictions).T)})\n",
    "            \n",
    "    else:\n",
    "        logistic_grid_results[suffix] = {}\n",
    "        logistic_grid_search.fit(X_train, y_train)\n",
    "        logistic_grid_results[suffix].update({'train_score' : logistic_grid_search.score(X_train, y_train)})\n",
    "        logistic_grid_results[suffix].update({'best_score' : logistic_grid_search.best_score_})\n",
    "        logistic_grid_results[suffix].update({'best_params' : logistic_grid_search.best_params_})\n",
    "        logistic_grid_results[suffix].update({'train_pred' : logistic_grid_search.predict(X_train)})\n",
    "        logistic_grid_results[suffix].update({'F1 Score' : f1_score(y_train, logistic_grid_results[suffix]['train_pred'], average='micro')})\n",
    "        logistic_grid_results[suffix].update({'Precision' : precision_score(y_train, logistic_grid_results[suffix]['train_pred'])})\n",
    "        logistic_grid_results[suffix].update({'Recall' : recall_score(y_train, logistic_grid_results[suffix]['train_pred'])})\n",
    "                                              \n",
    "        logistic_grid_results[suffix].update({'best_estimator_score' : logistic_grid_search.best_estimator_.score(X_train, y_train)})\n",
    "        \n",
    "        try:\n",
    "            pd.DataFrame.sparse.from_spmatrix(logistic_grid_search.predict(X_test)).to_csv(\"test_pred_\" + suffix + \".csv\")\n",
    "        except:\n",
    "            print('Sparse failed for ',suffix)\n",
    "            try:\n",
    "                pd.DataFrame(logistic_grid_search.predict(X_test)).to_csv(\"test_pred_\" + suffix + \".csv\")\n",
    "            except:\n",
    "                print('Normal CSV also failed for', suffix)"
   ]
  },
  {
   "cell_type": "markdown",
   "metadata": {},
   "source": [
    "### Naive Bayes"
   ]
  },
  {
   "cell_type": "code",
   "execution_count": 49,
   "metadata": {
    "ExecuteTime": {
     "end_time": "2020-08-20T15:10:41.618791Z",
     "start_time": "2020-08-20T14:47:56.344382Z"
    },
    "collapsed": true
   },
   "outputs": [
    {
     "name": "stdout",
     "output_type": "stream",
     "text": [
      "Grid_GaussianNB_OVR\n",
      "... Processing Computer Science\n",
      "Fitting 3 folds for each of 3 candidates, totalling 9 fits\n"
     ]
    },
    {
     "name": "stderr",
     "output_type": "stream",
     "text": [
      "[Parallel(n_jobs=-1)]: Using backend LokyBackend with 8 concurrent workers.\n",
      "[Parallel(n_jobs=-1)]: Done   4 out of   9 | elapsed:  9.7min remaining: 12.1min\n"
     ]
    },
    {
     "ename": "KeyboardInterrupt",
     "evalue": "",
     "output_type": "error",
     "traceback": [
      "\u001b[1;31m---------------------------------------------------------------------------\u001b[0m",
      "\u001b[1;31mKeyboardInterrupt\u001b[0m                         Traceback (most recent call last)",
      "\u001b[1;32m<ipython-input-49-5a58004eb980>\u001b[0m in \u001b[0;36m<module>\u001b[1;34m\u001b[0m\n\u001b[0;32m     34\u001b[0m             \u001b[0mgnb_grid_results\u001b[0m\u001b[1;33m[\u001b[0m\u001b[0msuffix\u001b[0m \u001b[1;33m+\u001b[0m \u001b[1;34m'_'\u001b[0m \u001b[1;33m+\u001b[0m \u001b[0mlabel\u001b[0m\u001b[1;33m]\u001b[0m \u001b[1;33m=\u001b[0m \u001b[1;33m{\u001b[0m\u001b[1;33m}\u001b[0m\u001b[1;33m\u001b[0m\u001b[1;33m\u001b[0m\u001b[0m\n\u001b[0;32m     35\u001b[0m             \u001b[0mprint\u001b[0m\u001b[1;33m(\u001b[0m\u001b[1;34m'... Processing {}'\u001b[0m\u001b[1;33m.\u001b[0m\u001b[0mformat\u001b[0m\u001b[1;33m(\u001b[0m\u001b[0mlabel\u001b[0m\u001b[1;33m)\u001b[0m\u001b[1;33m)\u001b[0m\u001b[1;33m\u001b[0m\u001b[1;33m\u001b[0m\u001b[0m\n\u001b[1;32m---> 36\u001b[1;33m             \u001b[0mgnb_grid_search\u001b[0m\u001b[1;33m.\u001b[0m\u001b[0mfit\u001b[0m\u001b[1;33m(\u001b[0m\u001b[0mX_train\u001b[0m\u001b[1;33m,\u001b[0m \u001b[0mnp\u001b[0m\u001b[1;33m.\u001b[0m\u001b[0marray\u001b[0m\u001b[1;33m(\u001b[0m\u001b[0mdata\u001b[0m\u001b[1;33m[\u001b[0m\u001b[0mlabel\u001b[0m\u001b[1;33m]\u001b[0m\u001b[1;33m)\u001b[0m\u001b[1;33m)\u001b[0m\u001b[1;33m\u001b[0m\u001b[1;33m\u001b[0m\u001b[0m\n\u001b[0m\u001b[0;32m     37\u001b[0m             \u001b[0mprint\u001b[0m\u001b[1;33m(\u001b[0m\u001b[1;34m'Train Score : '\u001b[0m\u001b[1;33m,\u001b[0m \u001b[0mgnb_grid_search\u001b[0m\u001b[1;33m.\u001b[0m\u001b[0mscore\u001b[0m\u001b[1;33m(\u001b[0m\u001b[0mX_train\u001b[0m\u001b[1;33m,\u001b[0m \u001b[0mnp\u001b[0m\u001b[1;33m.\u001b[0m\u001b[0marray\u001b[0m\u001b[1;33m(\u001b[0m\u001b[0mdata\u001b[0m\u001b[1;33m[\u001b[0m\u001b[0mlabel\u001b[0m\u001b[1;33m]\u001b[0m\u001b[1;33m)\u001b[0m\u001b[1;33m)\u001b[0m\u001b[1;33m)\u001b[0m\u001b[1;33m\u001b[0m\u001b[1;33m\u001b[0m\u001b[0m\n\u001b[0;32m     38\u001b[0m \u001b[1;33m\u001b[0m\u001b[0m\n",
      "\u001b[1;32mD:\\Anaconda\\lib\\site-packages\\sklearn\\utils\\validation.py\u001b[0m in \u001b[0;36minner_f\u001b[1;34m(*args, **kwargs)\u001b[0m\n\u001b[0;32m     71\u001b[0m                           FutureWarning)\n\u001b[0;32m     72\u001b[0m         \u001b[0mkwargs\u001b[0m\u001b[1;33m.\u001b[0m\u001b[0mupdate\u001b[0m\u001b[1;33m(\u001b[0m\u001b[1;33m{\u001b[0m\u001b[0mk\u001b[0m\u001b[1;33m:\u001b[0m \u001b[0marg\u001b[0m \u001b[1;32mfor\u001b[0m \u001b[0mk\u001b[0m\u001b[1;33m,\u001b[0m \u001b[0marg\u001b[0m \u001b[1;32min\u001b[0m \u001b[0mzip\u001b[0m\u001b[1;33m(\u001b[0m\u001b[0msig\u001b[0m\u001b[1;33m.\u001b[0m\u001b[0mparameters\u001b[0m\u001b[1;33m,\u001b[0m \u001b[0margs\u001b[0m\u001b[1;33m)\u001b[0m\u001b[1;33m}\u001b[0m\u001b[1;33m)\u001b[0m\u001b[1;33m\u001b[0m\u001b[1;33m\u001b[0m\u001b[0m\n\u001b[1;32m---> 73\u001b[1;33m         \u001b[1;32mreturn\u001b[0m \u001b[0mf\u001b[0m\u001b[1;33m(\u001b[0m\u001b[1;33m**\u001b[0m\u001b[0mkwargs\u001b[0m\u001b[1;33m)\u001b[0m\u001b[1;33m\u001b[0m\u001b[1;33m\u001b[0m\u001b[0m\n\u001b[0m\u001b[0;32m     74\u001b[0m     \u001b[1;32mreturn\u001b[0m \u001b[0minner_f\u001b[0m\u001b[1;33m\u001b[0m\u001b[1;33m\u001b[0m\u001b[0m\n\u001b[0;32m     75\u001b[0m \u001b[1;33m\u001b[0m\u001b[0m\n",
      "\u001b[1;32mD:\\Anaconda\\lib\\site-packages\\sklearn\\model_selection\\_search.py\u001b[0m in \u001b[0;36mfit\u001b[1;34m(self, X, y, groups, **fit_params)\u001b[0m\n\u001b[0;32m    734\u001b[0m                 \u001b[1;32mreturn\u001b[0m \u001b[0mresults\u001b[0m\u001b[1;33m\u001b[0m\u001b[1;33m\u001b[0m\u001b[0m\n\u001b[0;32m    735\u001b[0m \u001b[1;33m\u001b[0m\u001b[0m\n\u001b[1;32m--> 736\u001b[1;33m             \u001b[0mself\u001b[0m\u001b[1;33m.\u001b[0m\u001b[0m_run_search\u001b[0m\u001b[1;33m(\u001b[0m\u001b[0mevaluate_candidates\u001b[0m\u001b[1;33m)\u001b[0m\u001b[1;33m\u001b[0m\u001b[1;33m\u001b[0m\u001b[0m\n\u001b[0m\u001b[0;32m    737\u001b[0m \u001b[1;33m\u001b[0m\u001b[0m\n\u001b[0;32m    738\u001b[0m         \u001b[1;31m# For multi-metric evaluation, store the best_index_, best_params_ and\u001b[0m\u001b[1;33m\u001b[0m\u001b[1;33m\u001b[0m\u001b[1;33m\u001b[0m\u001b[0m\n",
      "\u001b[1;32mD:\\Anaconda\\lib\\site-packages\\sklearn\\model_selection\\_search.py\u001b[0m in \u001b[0;36m_run_search\u001b[1;34m(self, evaluate_candidates)\u001b[0m\n\u001b[0;32m   1186\u001b[0m     \u001b[1;32mdef\u001b[0m \u001b[0m_run_search\u001b[0m\u001b[1;33m(\u001b[0m\u001b[0mself\u001b[0m\u001b[1;33m,\u001b[0m \u001b[0mevaluate_candidates\u001b[0m\u001b[1;33m)\u001b[0m\u001b[1;33m:\u001b[0m\u001b[1;33m\u001b[0m\u001b[1;33m\u001b[0m\u001b[0m\n\u001b[0;32m   1187\u001b[0m         \u001b[1;34m\"\"\"Search all candidates in param_grid\"\"\"\u001b[0m\u001b[1;33m\u001b[0m\u001b[1;33m\u001b[0m\u001b[0m\n\u001b[1;32m-> 1188\u001b[1;33m         \u001b[0mevaluate_candidates\u001b[0m\u001b[1;33m(\u001b[0m\u001b[0mParameterGrid\u001b[0m\u001b[1;33m(\u001b[0m\u001b[0mself\u001b[0m\u001b[1;33m.\u001b[0m\u001b[0mparam_grid\u001b[0m\u001b[1;33m)\u001b[0m\u001b[1;33m)\u001b[0m\u001b[1;33m\u001b[0m\u001b[1;33m\u001b[0m\u001b[0m\n\u001b[0m\u001b[0;32m   1189\u001b[0m \u001b[1;33m\u001b[0m\u001b[0m\n\u001b[0;32m   1190\u001b[0m \u001b[1;33m\u001b[0m\u001b[0m\n",
      "\u001b[1;32mD:\\Anaconda\\lib\\site-packages\\sklearn\\model_selection\\_search.py\u001b[0m in \u001b[0;36mevaluate_candidates\u001b[1;34m(candidate_params)\u001b[0m\n\u001b[0;32m    713\u001b[0m                                \u001b[1;32mfor\u001b[0m \u001b[0mparameters\u001b[0m\u001b[1;33m,\u001b[0m \u001b[1;33m(\u001b[0m\u001b[0mtrain\u001b[0m\u001b[1;33m,\u001b[0m \u001b[0mtest\u001b[0m\u001b[1;33m)\u001b[0m\u001b[1;33m\u001b[0m\u001b[1;33m\u001b[0m\u001b[0m\n\u001b[0;32m    714\u001b[0m                                in product(candidate_params,\n\u001b[1;32m--> 715\u001b[1;33m                                           cv.split(X, y, groups)))\n\u001b[0m\u001b[0;32m    716\u001b[0m \u001b[1;33m\u001b[0m\u001b[0m\n\u001b[0;32m    717\u001b[0m                 \u001b[1;32mif\u001b[0m \u001b[0mlen\u001b[0m\u001b[1;33m(\u001b[0m\u001b[0mout\u001b[0m\u001b[1;33m)\u001b[0m \u001b[1;33m<\u001b[0m \u001b[1;36m1\u001b[0m\u001b[1;33m:\u001b[0m\u001b[1;33m\u001b[0m\u001b[1;33m\u001b[0m\u001b[0m\n",
      "\u001b[1;32mD:\\Anaconda\\lib\\site-packages\\joblib\\parallel.py\u001b[0m in \u001b[0;36m__call__\u001b[1;34m(self, iterable)\u001b[0m\n\u001b[0;32m   1040\u001b[0m \u001b[1;33m\u001b[0m\u001b[0m\n\u001b[0;32m   1041\u001b[0m             \u001b[1;32mwith\u001b[0m \u001b[0mself\u001b[0m\u001b[1;33m.\u001b[0m\u001b[0m_backend\u001b[0m\u001b[1;33m.\u001b[0m\u001b[0mretrieval_context\u001b[0m\u001b[1;33m(\u001b[0m\u001b[1;33m)\u001b[0m\u001b[1;33m:\u001b[0m\u001b[1;33m\u001b[0m\u001b[1;33m\u001b[0m\u001b[0m\n\u001b[1;32m-> 1042\u001b[1;33m                 \u001b[0mself\u001b[0m\u001b[1;33m.\u001b[0m\u001b[0mretrieve\u001b[0m\u001b[1;33m(\u001b[0m\u001b[1;33m)\u001b[0m\u001b[1;33m\u001b[0m\u001b[1;33m\u001b[0m\u001b[0m\n\u001b[0m\u001b[0;32m   1043\u001b[0m             \u001b[1;31m# Make sure that we get a last message telling us we are done\u001b[0m\u001b[1;33m\u001b[0m\u001b[1;33m\u001b[0m\u001b[1;33m\u001b[0m\u001b[0m\n\u001b[0;32m   1044\u001b[0m             \u001b[0melapsed_time\u001b[0m \u001b[1;33m=\u001b[0m \u001b[0mtime\u001b[0m\u001b[1;33m.\u001b[0m\u001b[0mtime\u001b[0m\u001b[1;33m(\u001b[0m\u001b[1;33m)\u001b[0m \u001b[1;33m-\u001b[0m \u001b[0mself\u001b[0m\u001b[1;33m.\u001b[0m\u001b[0m_start_time\u001b[0m\u001b[1;33m\u001b[0m\u001b[1;33m\u001b[0m\u001b[0m\n",
      "\u001b[1;32mD:\\Anaconda\\lib\\site-packages\\joblib\\parallel.py\u001b[0m in \u001b[0;36mretrieve\u001b[1;34m(self)\u001b[0m\n\u001b[0;32m    919\u001b[0m             \u001b[1;32mtry\u001b[0m\u001b[1;33m:\u001b[0m\u001b[1;33m\u001b[0m\u001b[1;33m\u001b[0m\u001b[0m\n\u001b[0;32m    920\u001b[0m                 \u001b[1;32mif\u001b[0m \u001b[0mgetattr\u001b[0m\u001b[1;33m(\u001b[0m\u001b[0mself\u001b[0m\u001b[1;33m.\u001b[0m\u001b[0m_backend\u001b[0m\u001b[1;33m,\u001b[0m \u001b[1;34m'supports_timeout'\u001b[0m\u001b[1;33m,\u001b[0m \u001b[1;32mFalse\u001b[0m\u001b[1;33m)\u001b[0m\u001b[1;33m:\u001b[0m\u001b[1;33m\u001b[0m\u001b[1;33m\u001b[0m\u001b[0m\n\u001b[1;32m--> 921\u001b[1;33m                     \u001b[0mself\u001b[0m\u001b[1;33m.\u001b[0m\u001b[0m_output\u001b[0m\u001b[1;33m.\u001b[0m\u001b[0mextend\u001b[0m\u001b[1;33m(\u001b[0m\u001b[0mjob\u001b[0m\u001b[1;33m.\u001b[0m\u001b[0mget\u001b[0m\u001b[1;33m(\u001b[0m\u001b[0mtimeout\u001b[0m\u001b[1;33m=\u001b[0m\u001b[0mself\u001b[0m\u001b[1;33m.\u001b[0m\u001b[0mtimeout\u001b[0m\u001b[1;33m)\u001b[0m\u001b[1;33m)\u001b[0m\u001b[1;33m\u001b[0m\u001b[1;33m\u001b[0m\u001b[0m\n\u001b[0m\u001b[0;32m    922\u001b[0m                 \u001b[1;32melse\u001b[0m\u001b[1;33m:\u001b[0m\u001b[1;33m\u001b[0m\u001b[1;33m\u001b[0m\u001b[0m\n\u001b[0;32m    923\u001b[0m                     \u001b[0mself\u001b[0m\u001b[1;33m.\u001b[0m\u001b[0m_output\u001b[0m\u001b[1;33m.\u001b[0m\u001b[0mextend\u001b[0m\u001b[1;33m(\u001b[0m\u001b[0mjob\u001b[0m\u001b[1;33m.\u001b[0m\u001b[0mget\u001b[0m\u001b[1;33m(\u001b[0m\u001b[1;33m)\u001b[0m\u001b[1;33m)\u001b[0m\u001b[1;33m\u001b[0m\u001b[1;33m\u001b[0m\u001b[0m\n",
      "\u001b[1;32mD:\\Anaconda\\lib\\site-packages\\joblib\\_parallel_backends.py\u001b[0m in \u001b[0;36mwrap_future_result\u001b[1;34m(future, timeout)\u001b[0m\n\u001b[0;32m    540\u001b[0m         AsyncResults.get from multiprocessing.\"\"\"\n\u001b[0;32m    541\u001b[0m         \u001b[1;32mtry\u001b[0m\u001b[1;33m:\u001b[0m\u001b[1;33m\u001b[0m\u001b[1;33m\u001b[0m\u001b[0m\n\u001b[1;32m--> 542\u001b[1;33m             \u001b[1;32mreturn\u001b[0m \u001b[0mfuture\u001b[0m\u001b[1;33m.\u001b[0m\u001b[0mresult\u001b[0m\u001b[1;33m(\u001b[0m\u001b[0mtimeout\u001b[0m\u001b[1;33m=\u001b[0m\u001b[0mtimeout\u001b[0m\u001b[1;33m)\u001b[0m\u001b[1;33m\u001b[0m\u001b[1;33m\u001b[0m\u001b[0m\n\u001b[0m\u001b[0;32m    543\u001b[0m         \u001b[1;32mexcept\u001b[0m \u001b[0mCfTimeoutError\u001b[0m \u001b[1;32mas\u001b[0m \u001b[0me\u001b[0m\u001b[1;33m:\u001b[0m\u001b[1;33m\u001b[0m\u001b[1;33m\u001b[0m\u001b[0m\n\u001b[0;32m    544\u001b[0m             \u001b[1;32mraise\u001b[0m \u001b[0mTimeoutError\u001b[0m \u001b[1;32mfrom\u001b[0m \u001b[0me\u001b[0m\u001b[1;33m\u001b[0m\u001b[1;33m\u001b[0m\u001b[0m\n",
      "\u001b[1;32mD:\\Anaconda\\lib\\concurrent\\futures\\_base.py\u001b[0m in \u001b[0;36mresult\u001b[1;34m(self, timeout)\u001b[0m\n\u001b[0;32m    428\u001b[0m                 \u001b[1;32mreturn\u001b[0m \u001b[0mself\u001b[0m\u001b[1;33m.\u001b[0m\u001b[0m__get_result\u001b[0m\u001b[1;33m(\u001b[0m\u001b[1;33m)\u001b[0m\u001b[1;33m\u001b[0m\u001b[1;33m\u001b[0m\u001b[0m\n\u001b[0;32m    429\u001b[0m \u001b[1;33m\u001b[0m\u001b[0m\n\u001b[1;32m--> 430\u001b[1;33m             \u001b[0mself\u001b[0m\u001b[1;33m.\u001b[0m\u001b[0m_condition\u001b[0m\u001b[1;33m.\u001b[0m\u001b[0mwait\u001b[0m\u001b[1;33m(\u001b[0m\u001b[0mtimeout\u001b[0m\u001b[1;33m)\u001b[0m\u001b[1;33m\u001b[0m\u001b[1;33m\u001b[0m\u001b[0m\n\u001b[0m\u001b[0;32m    431\u001b[0m \u001b[1;33m\u001b[0m\u001b[0m\n\u001b[0;32m    432\u001b[0m             \u001b[1;32mif\u001b[0m \u001b[0mself\u001b[0m\u001b[1;33m.\u001b[0m\u001b[0m_state\u001b[0m \u001b[1;32min\u001b[0m \u001b[1;33m[\u001b[0m\u001b[0mCANCELLED\u001b[0m\u001b[1;33m,\u001b[0m \u001b[0mCANCELLED_AND_NOTIFIED\u001b[0m\u001b[1;33m]\u001b[0m\u001b[1;33m:\u001b[0m\u001b[1;33m\u001b[0m\u001b[1;33m\u001b[0m\u001b[0m\n",
      "\u001b[1;32mD:\\Anaconda\\lib\\threading.py\u001b[0m in \u001b[0;36mwait\u001b[1;34m(self, timeout)\u001b[0m\n\u001b[0;32m    294\u001b[0m         \u001b[1;32mtry\u001b[0m\u001b[1;33m:\u001b[0m    \u001b[1;31m# restore state no matter what (e.g., KeyboardInterrupt)\u001b[0m\u001b[1;33m\u001b[0m\u001b[1;33m\u001b[0m\u001b[0m\n\u001b[0;32m    295\u001b[0m             \u001b[1;32mif\u001b[0m \u001b[0mtimeout\u001b[0m \u001b[1;32mis\u001b[0m \u001b[1;32mNone\u001b[0m\u001b[1;33m:\u001b[0m\u001b[1;33m\u001b[0m\u001b[1;33m\u001b[0m\u001b[0m\n\u001b[1;32m--> 296\u001b[1;33m                 \u001b[0mwaiter\u001b[0m\u001b[1;33m.\u001b[0m\u001b[0macquire\u001b[0m\u001b[1;33m(\u001b[0m\u001b[1;33m)\u001b[0m\u001b[1;33m\u001b[0m\u001b[1;33m\u001b[0m\u001b[0m\n\u001b[0m\u001b[0;32m    297\u001b[0m                 \u001b[0mgotit\u001b[0m \u001b[1;33m=\u001b[0m \u001b[1;32mTrue\u001b[0m\u001b[1;33m\u001b[0m\u001b[1;33m\u001b[0m\u001b[0m\n\u001b[0;32m    298\u001b[0m             \u001b[1;32melse\u001b[0m\u001b[1;33m:\u001b[0m\u001b[1;33m\u001b[0m\u001b[1;33m\u001b[0m\u001b[0m\n",
      "\u001b[1;31mKeyboardInterrupt\u001b[0m: "
     ]
    }
   ],
   "source": [
    "# Gaussian NB\n",
    "\n",
    "algorithm_index = 1\n",
    "\n",
    "gnb_grid_results = {}\n",
    "gnb_grid_pipeline = get_baseline_pipeline(algorithm_index)\n",
    "\n",
    "for method_index in range(len(methods)): # CHange 1 to zero\n",
    "    suffix = 'Grid_' + ML_algo_names[algorithm_index] + '_' + methods[method_index]\n",
    "    print(suffix)\n",
    "    \n",
    "    gnb_grid_results[suffix] = {}\n",
    "    \n",
    "    if method_index == 0:\n",
    "        clf_param_name = 'estimator'\n",
    "    else:\n",
    "        clf_param_name = 'classifier'\n",
    "        \n",
    "    gnb_param_grid = {\n",
    "        'tfidf_pipeline__tfidf_vectorizer__ngram_range' : [(1,1), (1,2), (1,3)]\n",
    "    }\n",
    "    \n",
    "    cv_split = ShuffleSplit(n_splits = 3, test_size = .1, random_state = 42)\n",
    "    \n",
    "    gnb_grid_search = GridSearchCV(\n",
    "        estimator=gnb_grid_pipeline[method_index], param_grid=gnb_param_grid,\n",
    "        scoring='accuracy', cv=cv_split, verbose=1, n_jobs=-1, refit=True\n",
    "    )\n",
    "\n",
    "    if method_index == 0:\n",
    "        class_predictions = []\n",
    "        test_predictions = []\n",
    "        for label in output_labels:\n",
    "            gnb_grid_results[suffix + '_' + label] = {}\n",
    "            print('... Processing {}'.format(label))\n",
    "            gnb_grid_search.fit(X_train, np.array(data[label]))\n",
    "            print('Train Score : ', gnb_grid_search.score(X_train, np.array(data[label])))\n",
    "            \n",
    "            gnb_grid_results[suffix + '_' + label].update({'train_score' : gnb_grid_search.score(X_train, np.array(data[label]))})\n",
    "            gnb_grid_results[suffix + '_' + label].update({'best_params' : gnb_grid_search.best_params_})\n",
    "            gnb_grid_results[suffix + '_' + label].update({'best_estimator_score' : gnb_grid_search.best_estimator_.score(X_train, np.array(data[label]))})\n",
    "            \n",
    "            class_predictions.append(gnb_grid_search.predict(X_train))\n",
    "            test_predictions.append(gnb_grid_search.predict(X_test))\n",
    "            \n",
    "        pd.DataFrame(np.array(class_predictions)).T.to_csv(suffix + '_' + \"OVR.csv\")\n",
    "        pd.DataFrame(np.array(test_predictions)).T.to_csv(\"test_pred_\" + suffix + '_' + \"OVR.csv\")\n",
    "        gnb_grid_results[suffix + '_' + 'OVR'] = {}\n",
    "        gnb_grid_results[suffix + '_' + 'OVR'].update({'full_train_score' : calculate_OVR_overall_accuracy(y_train, np.array(class_predictions).T)})\n",
    "            \n",
    "    else:\n",
    "        gnb_grid_results[suffix] = {}\n",
    "        gnb_grid_search.fit(X_train, y_train)\n",
    "        gnb_grid_results[suffix].update({'train_score' : gnb_grid_search.score(X_train, y_train)})\n",
    "        gnb_grid_results[suffix].update({'best_score' : gnb_grid_search.best_score_})\n",
    "        gnb_grid_results[suffix].update({'best_params' : gnb_grid_search.best_params_})\n",
    "        gnb_grid_results[suffix].update({'train_pred' : gnb_grid_search.predict(X_train)})\n",
    "        gnb_grid_results[suffix].update({'F1 Score' : f1_score(y_train, gnb_grid_results[suffix]['train_pred'], average='micro')})\n",
    "        gnb_grid_results[suffix].update({'Precision' : precision_score(y_train, gnb_grid_results[suffix]['train_pred'])})\n",
    "        gnb_grid_results[suffix].update({'Recall' : recall_score(y_train, gnb_grid_results[suffix]['train_pred'])})\n",
    "                                              \n",
    "        gnb_grid_results[suffix].update({'best_estimator_score' : gnb_grid_search.best_estimator_.score(X_train, y_train)})\n",
    "        \n",
    "        try:\n",
    "            pd.DataFrame.sparse.from_spmatrix(gnb_grid_search.predict(X_test)).to_csv(\"test_pred_\" + suffix + \".csv\")\n",
    "        except:\n",
    "            print('Sparse failed for ',suffix)\n",
    "            try:\n",
    "                pd.DataFrame(gnb_grid_search.predict(X_test)).to_csv(\"test_pred_\" + suffix + \".csv\")\n",
    "            except:\n",
    "                print('Normal CSV also failed for', suffix)"
   ]
  },
  {
   "cell_type": "code",
   "execution_count": null,
   "metadata": {},
   "outputs": [],
   "source": [
    "# Decision Tree\n",
    "\n",
    "algorithm_index = 2\n",
    "\n",
    "dt_grid_results = {}\n",
    "dt_grid_pipeline = get_baseline_pipeline(algorithm_index)\n",
    "\n",
    "for method_index in range(len(methods)): # CHange 1 to zero\n",
    "    suffix = 'Grid_' + ML_algo_names[algorithm_index] + '_' + methods[method_index]\n",
    "    print(suffix)\n",
    "    \n",
    "    dt_grid_results[suffix] = {}\n",
    "    \n",
    "    if method_index == 0:\n",
    "        clf_param_name = 'estimator'\n",
    "    else:\n",
    "        clf_param_name = 'classifier'\n",
    "        \n",
    "    dt_param_grid = {\n",
    "        'clf__' + clf_param_name + '__criterion' : ['gini', 'entropy'],\n",
    "        'clf__' + clf_param_name + '__max_depth' : [i for i in range(2, 8)],\n",
    "        'clf__' + clf_param_name + '__min_samples_split' : [round(val, 2) for val in np.linspace(0.1, 0.5, 5)],\n",
    "        'clf__' + clf_param_name + '__min_samples_leaf' : [0.1, 0.2],\n",
    "        'clf__' + clf_param_name + '__max_features' : [\"sqrt\", \"auto\"],\n",
    "        'tfidf_pipeline__tfidf_vectorizer__ngram_range' : [(1,1), (1,2), (1,3)]\n",
    "    }\n",
    "    \n",
    "    cv_split = ShuffleSplit(n_splits = 3, test_size = .1, random_state = 42)\n",
    "    \n",
    "    dt_grid_search = GridSearchCV(\n",
    "        estimator=dt_grid_pipeline[method_index], param_grid=dt_param_grid,\n",
    "        scoring='accuracy', cv=cv_split, verbose=1, n_jobs=-1, refit=True\n",
    "    )\n",
    "\n",
    "    if method_index == 0:\n",
    "        class_predictions = []\n",
    "        test_predictions = []\n",
    "        for label in output_labels:\n",
    "            dt_grid_results[suffix + '_' + label] = {}\n",
    "            print('... Processing {}'.format(label))\n",
    "            dt_grid_search.fit(X_train, np.array(data[label]))\n",
    "            print('Train Score : ', dt_grid_search.score(X_train, np.array(data[label])))\n",
    "            \n",
    "            dt_grid_results[suffix + '_' + label].update({'train_score' : dt_grid_search.score(X_train, np.array(data[label]))})\n",
    "            dt_grid_results[suffix + '_' + label].update({'best_params' : dt_grid_search.best_params_})\n",
    "            dt_grid_results[suffix + '_' + label].update({'best_estimator_score' : dt_grid_search.best_estimator_.score(X_train, np.array(data[label]))})\n",
    "            \n",
    "            class_predictions.append(dt_grid_search.predict(X_train))\n",
    "            test_predictions.append(dt_grid_search.predict(X_test))\n",
    "            \n",
    "        pd.DataFrame(np.array(class_predictions)).T.to_csv(suffix + '_' + \"OVR.csv\")\n",
    "        pd.DataFrame(np.array(test_predictions)).T.to_csv(\"test_pred_\" + suffix + '_' + \"OVR.csv\")\n",
    "        dt_grid_results[suffix + '_' + 'OVR'] = {}\n",
    "        dt_grid_results[suffix + '_' + 'OVR'].update({'full_train_score' : calculate_OVR_overall_accuracy(y_train, np.array(class_predictions).T)})\n",
    "            \n",
    "    else:\n",
    "        dt_grid_results[suffix] = {}\n",
    "        dt_grid_search.fit(X_train, y_train)\n",
    "        dt_grid_results[suffix].update({'train_score' : dt_grid_search.score(X_train, y_train)})\n",
    "        dt_grid_results[suffix].update({'best_score' : dt_grid_search.best_score_})\n",
    "        dt_grid_results[suffix].update({'best_params' : dt_grid_search.best_params_})\n",
    "        dt_grid_results[suffix].update({'train_pred' : dt_grid_search.predict(X_train)})\n",
    "        dt_grid_results[suffix].update({'F1 Score' : f1_score(y_train, dt_grid_results[suffix]['train_pred'], average='micro')})\n",
    "        dt_grid_results[suffix].update({'Precision' : precision_score(y_train, dt_grid_results[suffix]['train_pred'])})\n",
    "        dt_grid_results[suffix].update({'Recall' : recall_score(y_train, dt_grid_results[suffix]['train_pred'])})\n",
    "                                              \n",
    "        dt_grid_results[suffix].update({'best_estimator_score' : dt_grid_search.best_estimator_.score(X_train, y_train)})\n",
    "        \n",
    "        try:\n",
    "            pd.DataFrame.sparse.from_spmatrix(dt_grid_search.predict(X_test)).to_csv(\"test_pred_\" + suffix + \".csv\")\n",
    "        except:\n",
    "            print('Sparse failed for ',suffix)\n",
    "            try:\n",
    "                pd.DataFrame(dt_grid_search.predict(X_test)).to_csv(\"test_pred_\" + suffix + \".csv\")\n",
    "            except:\n",
    "                print('Normal CSV also failed for', suffix)"
   ]
  },
  {
   "cell_type": "markdown",
   "metadata": {},
   "source": [
    "### Random Forest"
   ]
  },
  {
   "cell_type": "code",
   "execution_count": null,
   "metadata": {},
   "outputs": [],
   "source": [
    "# Random Forest\n",
    "\n",
    "algorithm_index = 3\n",
    "\n",
    "rf_grid_results = {}\n",
    "rf_grid_pipeline = get_baseline_pipeline(algorithm_index)\n",
    "\n",
    "for method_index in range(len(methods)): # CHange 1 to zero\n",
    "    suffix = 'Grid_' + ML_algo_names[algorithm_index] + '_' + methods[method_index]\n",
    "    print(suffix)\n",
    "    \n",
    "    rf_grid_results[suffix] = {}\n",
    "    \n",
    "    if method_index == 0:\n",
    "        clf_param_name = 'estimator'\n",
    "    else:\n",
    "        clf_param_name = 'classifier'\n",
    "        \n",
    "    rf_param_grid = {\n",
    "        'clf__' + clf_param_name + '__bootstrap': [True],\n",
    "        'clf__' + clf_param_name + '__criterion' : ['gini'],\n",
    "        'clf__' + clf_param_name + '__n_estimators' : [1000, 1500, 2000],\n",
    "        'clf__' + clf_param_name + '__min_samples_split' : [0.3, 0.4, 0.5],\n",
    "        'clf__' + clf_param_name + '__min_samples_leaf' : [0.1, 0.2],\n",
    "        'clf__' + clf_param_name + '__max_features' : [\"log2\", \"auto\"],\n",
    "        'tfidf_pipeline__tfidf_vectorizer__ngram_range' : [(1,1), (1,2), (1,3)]\n",
    "    }\n",
    "    \n",
    "    cv_split = ShuffleSplit(n_splits = 3, test_size = .1, random_state = 42)\n",
    "    \n",
    "    rf_grid_search = GridSearchCV(\n",
    "        estimator=rf_grid_pipeline[method_index], param_grid=rf_param_grid,\n",
    "        scoring='accuracy', cv=cv_split, verbose=1, n_jobs=-1, refit=True\n",
    "    )\n",
    "\n",
    "    if method_index == 0:\n",
    "        class_predictions = []\n",
    "        test_predictions = []\n",
    "        for label in output_labels:\n",
    "            rf_grid_results[suffix + '_' + label] = {}\n",
    "            print('... Processing {}'.format(label))\n",
    "            rf_grid_search.fit(X_train, np.array(data[label]))\n",
    "            print('Train Score : ', rf_grid_search.score(X_train, np.array(data[label])))\n",
    "            \n",
    "            rf_grid_results[suffix + '_' + label].update({'train_score' : rf_grid_search.score(X_train, np.array(data[label]))})\n",
    "            rf_grid_results[suffix + '_' + label].update({'best_params' : rf_grid_search.best_params_})\n",
    "            rf_grid_results[suffix + '_' + label].update({'best_estimator_score' : rf_grid_search.best_estimator_.score(X_train, np.array(data[label]))})\n",
    "            \n",
    "            class_predictions.append(rf_grid_search.predict(X_train))\n",
    "            test_predictions.append(rf_grid_search.predict(X_test))\n",
    "        \n",
    "        pd.DataFrame(np.array(class_predictions)).T.to_csv(suffix + '_' + \"OVR.csv\")\n",
    "        pd.DataFrame(np.array(test_predictions)).T.to_csv(\"test_pred_\" + suffix + '_' + \"OVR.csv\")\n",
    "        rf_grid_results[suffix + '_' + 'OVR'] = {}\n",
    "        rf_grid_results[suffix + '_' + 'OVR'].update({'full_train_score' : calculate_OVR_overall_accuracy(y_train, np.array(class_predictions).T)})\n",
    "            \n",
    "    else:\n",
    "        rf_grid_results[suffix] = {}\n",
    "        rf_grid_search.fit(X_train, y_train)\n",
    "        rf_grid_results[suffix].update({'train_score' : rf_grid_search.score(X_train, y_train)})\n",
    "        rf_grid_results[suffix].update({'best_score' : rf_grid_search.best_score_})\n",
    "        rf_grid_results[suffix].update({'best_params' : rf_grid_search.best_params_})\n",
    "        rf_grid_results[suffix].update({'train_pred' : rf_grid_search.predict(X_train)})\n",
    "        rf_grid_results[suffix].update({'F1 Score' : f1_score(y_train, rf_grid_results[suffix]['train_pred'], average='micro')})\n",
    "        rf_grid_results[suffix].update({'Precision' : precision_score(y_train, rf_grid_results[suffix]['train_pred'])})\n",
    "        rf_grid_results[suffix].update({'Recall' : recall_score(y_train, rf_grid_results[suffix]['train_pred'])})\n",
    "                                              \n",
    "        rf_grid_results[suffix].update({'best_estimator_score' : rf_grid_search.best_estimator_.score(X_train, y_train)})\n",
    "        \n",
    "        try:\n",
    "            pd.DataFrame.sparse.from_spmatrix(rf_grid_search.predict(X_test)).to_csv(\"test_pred_\" + suffix + \".csv\")\n",
    "        except:\n",
    "            print('Sparse failed for ',suffix)\n",
    "            try:\n",
    "                pd.DataFrame(rf_grid_search.predict(X_test)).to_csv(\"test_pred_\" + suffix + \".csv\")\n",
    "            except:\n",
    "                print('Normal CSV also failed for', suffix)"
   ]
  },
  {
   "cell_type": "markdown",
   "metadata": {},
   "source": [
    "### Non Linear SVM"
   ]
  },
  {
   "cell_type": "code",
   "execution_count": null,
   "metadata": {},
   "outputs": [],
   "source": [
    "# Non Linear SVM\n",
    "\n",
    "algorithm_index = 4\n",
    "\n",
    "svc_grid_results = {}\n",
    "svc_grid_pipeline = get_baseline_pipeline(algorithm_index)\n",
    "\n",
    "for method_index in range(len(methods)): # CHange 1 to zero\n",
    "    suffix = 'Grid_' + ML_algo_names[algorithm_index] + '_' + methods[method_index]\n",
    "    print(suffix)\n",
    "    \n",
    "    svc_grid_results[suffix] = {}\n",
    "    \n",
    "    if method_index == 0:\n",
    "        clf_param_name = 'estimator'\n",
    "    else:\n",
    "        clf_param_name = 'classifier'\n",
    "        \n",
    "        'C': [0.1, 1, 10, 100, 1000],  \n",
    "              'gamma': [10, 1, 0.1, 0.01, 0.001, 0.0001], \n",
    "              'kernel': ['rbf']\n",
    "                \n",
    "    svc_param_grid = {\n",
    "        'clf__' + clf_param_name + '__C': [0.01, 0.1, 1, 10, 100],\n",
    "        'clf__' + clf_param_name + '__gamma' : [10, 1, 0.1, 0.01, 0.001],\n",
    "        'clf__' + clf_param_name + '__kernel' : ['rbf'],\n",
    "        'tfidf_pipeline__tfidf_vectorizer__ngram_range' : [(1,1), (1,2), (1,3)]\n",
    "    }\n",
    "    \n",
    "    cv_split = ShuffleSplit(n_splits = 3, test_size = .1, random_state = 42)\n",
    "    \n",
    "    svc_grid_search = GridSearchCV(\n",
    "        estimator=svc_grid_pipeline[method_index], param_grid=svc_param_grid,\n",
    "        scoring='accuracy', cv=cv_split, verbose=1, n_jobs=-1, refit=True\n",
    "    )\n",
    "\n",
    "    if method_index == 0:\n",
    "        class_predictions = []\n",
    "        test_predictions = []\n",
    "        for label in output_labels:\n",
    "            svc_grid_results[suffix + '_' + label] = {}\n",
    "            print('... Processing {}'.format(label))\n",
    "            svc_grid_search.fit(X_train, np.array(data[label]))\n",
    "            print('Train Score : ', svc_grid_search.score(X_train, np.array(data[label])))\n",
    "            \n",
    "            svc_grid_results[suffix + '_' + label].update({'train_score' : svc_grid_search.score(X_train, np.array(data[label]))})\n",
    "            svc_grid_results[suffix + '_' + label].update({'best_params' : svc_grid_search.best_params_})\n",
    "            svc_grid_results[suffix + '_' + label].update({'best_estimator_score' : svc_grid_search.best_estimator_.score(X_train, np.array(data[label]))})\n",
    "            \n",
    "            class_predictions.append(svc_grid_search.predict(X_train))\n",
    "            test_predictions.append(svc_grid_search.predict(X_test))\n",
    "            \n",
    "        pd.DataFrame(np.array(class_predictions)).T.to_csv(suffix + '_' + \"OVR.csv\")\n",
    "        pd.DataFrame(np.array(test_predictions)).T.to_csv(\"test_pred_\" + suffix + '_' + \"OVR.csv\")\n",
    "        svc_grid_results[suffix + '_' + 'OVR'] = {}\n",
    "        svc_grid_results[suffix + '_' + 'OVR'].update({'full_train_score' : calculate_OVR_overall_accuracy(y_train, np.array(class_predictions).T)})\n",
    "            \n",
    "    else:\n",
    "        svc_grid_results[suffix] = {}\n",
    "        svc_grid_search.fit(X_train, y_train)\n",
    "        svc_grid_results[suffix].update({'train_score' : svc_grid_search.score(X_train, y_train)})\n",
    "        svc_grid_results[suffix].update({'best_score' : svc_grid_search.best_score_})\n",
    "        svc_grid_results[suffix].update({'best_params' : svc_grid_search.best_params_})\n",
    "        svc_grid_results[suffix].update({'train_pred' : svc_grid_search.predict(X_train)})\n",
    "        svc_grid_results[suffix].update({'F1 Score' : f1_score(y_train, svc_grid_results[suffix]['train_pred'], average='micro')})\n",
    "        svc_grid_results[suffix].update({'Precision' : precision_score(y_train, svc_grid_results[suffix]['train_pred'])})\n",
    "        svc_grid_results[suffix].update({'Recall' : recall_score(y_train, svc_grid_results[suffix]['train_pred'])})\n",
    "                                              \n",
    "        svc_grid_results[suffix].update({'best_estimator_score' : svc_grid_search.best_estimator_.score(X_train, y_train)})\n",
    "        \n",
    "        try:\n",
    "            pd.DataFrame.sparse.from_spmatrix(svc_grid_search.predict(X_test)).to_csv(\"test_pred_\" + suffix + \".csv\")\n",
    "        except:\n",
    "            print('Sparse failed for ',suffix)\n",
    "            try:\n",
    "                pd.DataFrame(svc_grid_search.predict(X_test)).to_csv(\"test_pred_\" + suffix + \".csv\")\n",
    "            except:\n",
    "                print('Normal CSV also failed for', suffix)"
   ]
  },
  {
   "cell_type": "markdown",
   "metadata": {},
   "source": [
    "### Linear SVM"
   ]
  },
  {
   "cell_type": "code",
   "execution_count": null,
   "metadata": {},
   "outputs": [],
   "source": [
    "# Linear SVM\n",
    "\n",
    "algorithm_index = 4\n",
    "\n",
    "svc_linear_grid_results = {}\n",
    "svc_linear_grid_pipeline = get_baseline_pipeline(algorithm_index)\n",
    "\n",
    "for method_index in range(len(methods)): # CHange 1 to zero\n",
    "    suffix = 'Grid_' + ML_algo_names[algorithm_index] + '_' + methods[method_index]\n",
    "    print(suffix)\n",
    "    \n",
    "    svc_linear_grid_results[suffix] = {}\n",
    "    \n",
    "    if method_index == 0:\n",
    "        clf_param_name = 'estimator'\n",
    "    else:\n",
    "        clf_param_name = 'classifier'\n",
    "        \n",
    "        'C': [0.1, 1, 10, 100, 1000],  \n",
    "              'gamma': [10, 1, 0.1, 0.01, 0.001, 0.0001], \n",
    "              'kernel': ['rbf']\n",
    "                \n",
    "    svc_linear_param_grid = {\n",
    "        'clf__' + clf_param_name + '__alpha': [0.001, 0.01, 0.1, 1, 10, 100]\n",
    "        'tfidf_pipeline__tfidf_vectorizer__ngram_range' : [(1,1), (1,2), (1,3)]\n",
    "    }\n",
    "    \n",
    "    cv_split = ShuffleSplit(n_splits = 3, test_size = .1, random_state = 42)\n",
    "    \n",
    "    svc_linear_grid_search = GridSearchCV(\n",
    "        estimator=svc_linear_grid_pipeline[method_index], param_grid=svc_linear_param_grid,\n",
    "        scoring='accuracy', cv=cv_split, verbose=1, n_jobs=-1, refit=True\n",
    "    )\n",
    "\n",
    "    if method_index == 0:\n",
    "        class_predictions = []\n",
    "        test_predictions = []\n",
    "        for label in output_labels:\n",
    "            svc_linear_grid_results[suffix + '_' + label] = {}\n",
    "            print('... Processing {}'.format(label))\n",
    "            svc_linear_grid_search.fit(X_train, np.array(data[label]))\n",
    "            print('Train Score : ', svc_linear_grid_search.score(X_train, np.array(data[label])))\n",
    "            \n",
    "            svc_linear_grid_results[suffix + '_' + label].update({'train_score' : svc_linear_grid_search.score(X_train, np.array(data[label]))})\n",
    "            svc_linear_grid_results[suffix + '_' + label].update({'best_params' : svc_linear_grid_search.best_params_})\n",
    "            svc_linear_grid_results[suffix + '_' + label].update({'best_estimator_score' : svc_linear_grid_search.best_estimator_.score(X_train, np.array(data[label]))})\n",
    "            \n",
    "            class_predictions.append(svc_linear_grid_search.predict(X_train))\n",
    "            test_predictions.append(svc_linear_grid_search.predict(X_test))\n",
    "            \n",
    "        pd.DataFrame(np.array(class_predictions)).T.to_csv(suffix + '_' + \"OVR.csv\")\n",
    "        pd.DataFrame(np.array(test_predictions)).T.to_csv(\"test_pred_\" + suffix + '_' + \"OVR.csv\")\n",
    "        svc_linear_grid_results[suffix + '_' + 'OVR'] = {}\n",
    "        svc_linear_grid_results[suffix + '_' + 'OVR'].update({'full_train_score' : calculate_OVR_overall_accuracy(y_train, np.array(class_predictions).T)})\n",
    "\n",
    "    else:\n",
    "        svc_linear_grid_results[suffix] = {}\n",
    "        svc_linear_grid_search.fit(X_train, y_train)\n",
    "        svc_linear_grid_results[suffix].update({'train_score' : svc_linear_grid_search.score(X_train, y_train)})\n",
    "        svc_linear_grid_results[suffix].update({'best_score' : svc_linear_grid_search.best_score_})\n",
    "        svc_linear_grid_results[suffix].update({'best_params' : svc_linear_grid_search.best_params_})\n",
    "        svc_linear_grid_results[suffix].update({'train_pred' : svc_linear_grid_search.predict(X_train)})\n",
    "        svc_linear_grid_results[suffix].update({'F1 Score' : f1_score(y_train, svc_linear_grid_results[suffix]['train_pred'], average='micro')})\n",
    "        svc_linear_grid_results[suffix].update({'Precision' : precision_score(y_train, svc_linear_grid_results[suffix]['train_pred'])})\n",
    "        svc_linear_grid_results[suffix].update({'Recall' : recall_score(y_train, svc_linear_grid_results[suffix]['train_pred'])})\n",
    "                                              \n",
    "        svc_linear_grid_results[suffix].update({'best_estimator_score' : svc_linear_grid_search.best_estimator_.score(X_train, y_train)})\n",
    "        \n",
    "        try:\n",
    "            pd.DataFrame.sparse.from_spmatrix(svc_linear_grid_search.predict(X_test)).to_csv(\"test_pred_\" + suffix + \".csv\")\n",
    "        except:\n",
    "            print('Sparse failed for ',suffix)\n",
    "            try:\n",
    "                pd.DataFrame(svc_linear_grid_search.predict(X_test)).to_csv(\"test_pred_\" + suffix + \".csv\")\n",
    "            except:\n",
    "                print('Normal CSV also failed for', suffix)"
   ]
  },
  {
   "cell_type": "markdown",
   "metadata": {
    "colab_type": "text",
    "id": "1rBTYPf1ygR9"
   },
   "source": [
    "## Word Embeddings"
   ]
  },
  {
   "cell_type": "code",
   "execution_count": null,
   "metadata": {
    "colab": {},
    "colab_type": "code",
    "id": "H8gPokD4yjos"
   },
   "outputs": [],
   "source": [
    "w2v_path = '/content/drive/My Drive/AV_Independence/Word2Vec Models/'\n",
    "W2V_names = ['model_128_sg', 'model_128_cbow', 'model_256_sg', 'model_256_cbow']\n",
    "\n",
    "#google_wv_file = '/content/drive/My Drive/AV_Independence/GoogleNews-vectors-negative300.bin.gz'\n",
    "#google_wv = KeyedVectors.load_word2vec_format(google_wv_file, binary=True)\n",
    "\n",
    "def get_Word2Vec_models(X_train):\n",
    "    model_128_sg = Word2Vec(sentences=X_train, size=128,\n",
    "                          sg=1, window=10, iter=5,\n",
    "                          min_count=2, workers=4)\n",
    "    model_128_sg.save(w2v_path + 'model_128_sg.model')\n",
    "\n",
    "    model_128_cbow = Word2Vec(sentences=X_train, size=128,\n",
    "                          sg=0, window=5, iter=5,\n",
    "                          min_count=2, workers=4)\n",
    "    model_128_cbow.save(w2v_path + 'model_128_cbow.model')\n",
    "\n",
    "    model_256_sg = Word2Vec(sentences=X_train, size=256,\n",
    "                          sg=1, window=10, iter=5,\n",
    "                          min_count=2, workers=4)\n",
    "    model_256_sg.save(w2v_path + 'model_256_sg.model')\n",
    "\n",
    "    model_256_cbow = Word2Vec(sentences=X_train, size=256,\n",
    "                          sg=0, window=5, iter=5,\n",
    "                          min_count=2, workers=4)\n",
    "    model_256_cbow.save(w2v_path + 'model_256_cbow.model')\n",
    "\n",
    "    return [model_128_sg, model_128_cbow, model_256_sg, model_256_cbow]"
   ]
  },
  {
   "cell_type": "code",
   "execution_count": null,
   "metadata": {},
   "outputs": [],
   "source": [
    "W2V_models = get_Word2Vec_models(X_train_dl)"
   ]
  },
  {
   "cell_type": "markdown",
   "metadata": {},
   "source": [
    "## Deep Learning Algorithms"
   ]
  },
  {
   "cell_type": "markdown",
   "metadata": {},
   "source": [
    "### CNN"
   ]
  },
  {
   "cell_type": "code",
   "execution_count": null,
   "metadata": {
    "colab": {},
    "colab_type": "code",
    "id": "FEF4c5pdwBt7"
   },
   "outputs": [],
   "source": [
    "def CNN_model(embedding_layer):\n",
    "  \n",
    "    drop = 0.2\n",
    "\n",
    "    CNN = Sequential()\n",
    "    CNN.add(embedding_layer)\n",
    "\n",
    "    CNN.add(Conv1D(filters=128, kernel_size=5))\n",
    "    #CNN.add(BatchNormalization())\n",
    "    CNN.add(Activation('relu'))\n",
    "    CNN.add(MaxPooling1D(pool_size=2))\n",
    "    CNN.add(Dropout(drop))\n",
    "\n",
    "    CNN.add(Conv1D(filters=128, kernel_size=7))\n",
    "    #CNN.add(BatchNormalization())\n",
    "    CNN.add(Activation('relu'))\n",
    "    CNN.add(MaxPooling1D(pool_size=2))\n",
    "    CNN.add(Dropout(drop))\n",
    "\n",
    "    CNN.add(Conv1D(filters=128, kernel_size=5))\n",
    "    #CNN.add(BatchNormalization())\n",
    "    CNN.add(Activation('relu'))\n",
    "    CNN.add(MaxPooling1D(pool_size=2))\n",
    "    CNN.add(Dropout(drop))\n",
    "\n",
    "    CNN.add(Flatten())\n",
    "\n",
    "    CNN.add(Dense(256))\n",
    "    #CNN.add(BatchNormalization())\n",
    "    CNN.add(Activation('relu'))\n",
    "    CNN.add(Dropout(drop))\n",
    "\n",
    "    CNN.add(Dense(256))\n",
    "    #CNN.add(BatchNormalization())\n",
    "    CNN.add(Activation('relu'))\n",
    "    CNN.add(Dropout(drop))\n",
    "\n",
    "    CNN.add(Dense(6, activation='sigmoid'))\n",
    "\n",
    "    print(CNN.summary())\n",
    "\n",
    "    return CNN"
   ]
  },
  {
   "cell_type": "markdown",
   "metadata": {
    "colab_type": "text",
    "id": "3XQO5VGY9Lgg"
   },
   "source": [
    "### CNN Multi Layer"
   ]
  },
  {
   "cell_type": "code",
   "execution_count": null,
   "metadata": {
    "colab": {},
    "colab_type": "code",
    "id": "f_WLQ_XRwByt"
   },
   "outputs": [],
   "source": [
    "def CNN_multi(embedding_layer, max_length):\n",
    "  \n",
    "    drop_embed = 0.2 \n",
    "\n",
    "    n_conv_1 = n_conv_2 = n_conv_3 = 128 \n",
    "    k_conv_1 = 3\n",
    "    k_conv_2 = 5\n",
    "    k_conv_3 = 4\n",
    "\n",
    "    n_dense = 256\n",
    "    dropout = 0.2\n",
    "\n",
    "    input_layer = Input(shape=(max_length,), name='input')\n",
    "\n",
    "    embedding_layer = embedding_layer(input_layer)\n",
    "    drop_embed_layer = SpatialDropout1D(drop_embed, name='drop_embed')(embedding_layer)\n",
    "\n",
    "    # three parallel convolutional streams: \n",
    "    conv_1 = Conv1D(n_conv_1, k_conv_1, activation='relu', name='conv_1')(drop_embed_layer)\n",
    "    maxp_1 = GlobalMaxPooling1D(name='maxp_1')(conv_1)\n",
    "\n",
    "    conv_2 = Conv1D(n_conv_2, k_conv_2, activation='relu', name='conv_2')(drop_embed_layer)\n",
    "    maxp_2 = GlobalMaxPooling1D(name='maxp_2')(conv_2)\n",
    "\n",
    "    conv_3 = Conv1D(n_conv_3, k_conv_3, activation='relu', name='conv_3')(drop_embed_layer)\n",
    "    maxp_3 = GlobalMaxPooling1D(name='maxp_3')(conv_3)\n",
    "\n",
    "    # concatenate the activations from the three streams: \n",
    "    concat = concatenate([maxp_1, maxp_2, maxp_3])\n",
    "\n",
    "    dense_layer = Dense(n_dense, activation='relu', name='dense')(concat)\n",
    "    drop_dense_layer = Dropout(dropout, name='drop_dense')(dense_layer)\n",
    "    dense_2 = Dense(int(n_dense/2), activation='relu', name='dense_2')(drop_dense_layer)\n",
    "    dropout_2 = Dropout(dropout, name='drop_dense_2')(dense_2)\n",
    "\n",
    "    predictions = Dense(6, activation='sigmoid', name='output')(dropout_2)\n",
    "\n",
    "    model = Model(input_layer, predictions)\n",
    "\n",
    "    return model"
   ]
  },
  {
   "cell_type": "markdown",
   "metadata": {
    "colab_type": "text",
    "id": "eBhl83FcY8Ql"
   },
   "source": [
    "### RNN"
   ]
  },
  {
   "cell_type": "code",
   "execution_count": null,
   "metadata": {
    "colab": {},
    "colab_type": "code",
    "id": "zmcPUYzDY96n"
   },
   "outputs": [],
   "source": [
    "def LSTM_model(embedding_layer):\n",
    "    drop = 0.2\n",
    "    model = Sequential()\n",
    "\n",
    "    model.add(embedding_layer)\n",
    "    model.add(Bidirectional(LSTM(128, dropout=drop))) #add dropout\n",
    "    #model.add(BatchNormalization())\n",
    "\n",
    "    model.add(Dense(256, activation='relu'))\n",
    "    #model.add(BatchNormalization())\n",
    "    model.add(Dropout(drop))\n",
    "\n",
    "    model.add(Dense(128, activation='relu'))\n",
    "    #model.add(BatchNormalization())\n",
    "    model.add(Dropout(drop))\n",
    "\n",
    "    model.add(Dense(6, activation='sigmoid'))\n",
    "\n",
    "    print(model.summary())\n",
    "\n",
    "    return model"
   ]
  },
  {
   "cell_type": "markdown",
   "metadata": {},
   "source": [
    "### CNN + LSTM Stacking"
   ]
  },
  {
   "cell_type": "code",
   "execution_count": null,
   "metadata": {},
   "outputs": [],
   "source": [
    "def big_show(embedding_layer):\n",
    "    drop = 0.2\n",
    "\n",
    "    CNN = Sequential()\n",
    "    CNN.add(embedding_layer)\n",
    "\n",
    "    CNN.add(Conv1D(filters=128, kernel_size=5))\n",
    "    #CNN.add(BatchNormalization())\n",
    "    CNN.add(Activation('relu'))\n",
    "    CNN.add(MaxPooling1D(pool_size=2))\n",
    "    CNN.add(Dropout(drop))\n",
    "\n",
    "    CNN.add(Conv1D(filters=128, kernel_size=7))\n",
    "    #CNN.add(BatchNormalization())\n",
    "    CNN.add(Activation('relu'))\n",
    "    CNN.add(MaxPooling1D(pool_size=2))\n",
    "    CNN.add(Dropout(drop))\n",
    "\n",
    "    CNN.add(Conv1D(filters=128, kernel_size=5))\n",
    "    #CNN.add(BatchNormalization())\n",
    "    CNN.add(Activation('relu'))\n",
    "    CNN.add(MaxPooling1D(pool_size=2))\n",
    "    CNN.add(Dropout(drop))\n",
    "\n",
    "    CNN.add(Flatten())\n",
    "\n",
    "    CNN.add(Bidirectional(LSTM(256, dropout=drop)))\n",
    "\n",
    "    CNN.add(Dense(256))\n",
    "    #CNN.add(BatchNormalization())\n",
    "    CNN.add(Activation('relu'))\n",
    "    CNN.add(Dropout(drop))\n",
    "\n",
    "    CNN.add(Dense(256))\n",
    "    #CNN.add(BatchNormalization())\n",
    "    CNN.add(Activation('relu'))\n",
    "    CNN.add(Dropout(drop))\n",
    "\n",
    "    CNN.add(Dense(6, activation='sigmoid'))\n",
    "\n",
    "    print(CNN.summary())\n",
    "\n",
    "    return CNN"
   ]
  },
  {
   "cell_type": "markdown",
   "metadata": {},
   "source": [
    "## Training and Validation Process"
   ]
  },
  {
   "cell_type": "markdown",
   "metadata": {},
   "source": [
    "The general flow for all deep learning algorithms are as follows:\n",
    "\n",
    "> Repeat until model shows no improvement\n",
    ">> for every Word2Vec model:\n",
    ">>> Train and validate the DL algorithm\\\n",
    "Tune and modify the hyperparameters\n",
    "\n",
    "This has been done for both the Word2Vec models learnt from the data and also using pretrained GloVe models.\n",
    "\n",
    "If a Word2Vec model performs poorly across several hyperparameter settings, it is eliminated."
   ]
  },
  {
   "cell_type": "code",
   "execution_count": null,
   "metadata": {
    "colab": {},
    "colab_type": "code",
    "id": "F1-v_qf902Ta"
   },
   "outputs": [],
   "source": [
    "def create_tokenizer(X_train):\n",
    "    tokenizer = Tokenizer()\n",
    "    tokenizer.fit_on_texts(X_train)\n",
    "    return tokenizer\n",
    "\n",
    "def encode_text(text, tokenizer, max_length):\n",
    "    encoded_text = tokenizer.texts_to_sequences(text)\n",
    "    padded_text = pad_sequences(encoded_text, maxlen=max_length, padding='post')\n",
    "    return padded_text\n",
    "\n",
    "def get_tokenizer_embedding_mapper(embedding, tokenizer_word_index):\n",
    "    not_present = []\n",
    "    vocab_size = len(tokenizer_word_index) + 1\n",
    "    tokenizer_embedding_mapper = np.zeros((vocab_size, embedding.wv.vector_size))\n",
    "    for word, index in tokenizer_word_index.items():\n",
    "        try:\n",
    "            tokenizer_embedding_mapper[index] = embedding[word]\n",
    "        except:\n",
    "            not_present.append(word)\n",
    "            \n",
    "    return tokenizer_embedding_mapper, not_present"
   ]
  },
  {
   "cell_type": "markdown",
   "metadata": {
    "ExecuteTime": {
     "end_time": "2020-08-30T13:53:38.331689Z",
     "start_time": "2020-08-30T13:53:38.325704Z"
    }
   },
   "source": [
    "Below is an example to train the first shown CNN model. The same can be applied for other alogirthms"
   ]
  },
  {
   "cell_type": "markdown",
   "metadata": {},
   "source": [
    "### Word2Vec learnt from data"
   ]
  },
  {
   "cell_type": "code",
   "execution_count": null,
   "metadata": {},
   "outputs": [],
   "source": [
    "W2V_names = ['model_128_sg', 'model_128_cbow', 'model_256_sg', 'model_256_cbow']\n",
    "for W2V_model_name in W2V_names:\n",
    "\n",
    "    W2V_model = Word2Vec.load(w2v_path + W2V_model_name + '.model')\n",
    "\n",
    "    tokenizer = create_tokenizer(X_train_dl) #features of X_train\n",
    "    vocab_size = len(tokenizer.word_index) + 1\n",
    "    max_length = max([len(headline) for headline in X_train_dl])\n",
    "\n",
    "    # Encode text information into numeric values\n",
    "    X_train_dl_encoded = encode_text(X_train_dl, tokenizer, max_length)\n",
    "    X_valid_dl_encoded = encode_text(X_valid_dl, tokenizer, max_length)\n",
    "    X_test_dl_encoded = encode_text(X_test_dl, tokenizer, max_length)\n",
    "\n",
    "    # Linking the learned embedding to the keras tokenizer object.\n",
    "    tokenizer_embedding_mapper, oov = get_tokenizer_embedding_mapper(W2V_model, tokenizer.word_index)\n",
    "    print('\\nTokenizer Shape : ', tokenizer_embedding_mapper.shape)\n",
    "\n",
    "    print('\\nDimension Cnecking : ', W2V_model_name, len(oov) + len(W2V_model.wv.vocab) == len(tokenizer.word_index)) #filename from #1#\n",
    "\n",
    "    embedding_layer = Embedding(vocab_size, W2V_model.wv.vector_size, weights=[tokenizer_embedding_mapper], input_length=max_length, trainable=True) \t# Possi Trainable\n",
    "\n",
    "    model = CNN_model(embedding_layer)\n",
    "\n",
    "    print('############## COMPILING ' + W2V_model_name + '###############')\n",
    "\n",
    "    model_name = \"CNN_iteration_1\" + W2V_model_name\n",
    "\n",
    "    checkpoint_file = \"weights_\" + model_name + \".h5\"\n",
    "    checkpoint = ModelCheckpoint(checkpoint_file, monitor='val_accuracy',\n",
    "                               save_best_only=True, mode='max', verbose=1\n",
    "                               )\n",
    "    callbacks = [checkpoint]\n",
    "\n",
    "    optimizer = Adam(learning_rate=0.0002, beta_1=0.95, beta_2=0.999, epsilon=1e-07, amsgrad=False, name='Adam')\n",
    "    model.compile(loss='binary_crossentropy', optimizer=optimizer, metrics=['accuracy'])\n",
    "\n",
    "    model.fit(np.array(X_train_dl_encoded), np.array(y_train_dl),\n",
    "            batch_size=32, epochs=15, verbose=2,\n",
    "            validation_data=(np.array(X_valid_dl_encoded), np.array(y_valid_dl)),\n",
    "            callbacks=callbacks\n",
    "    )"
   ]
  },
  {
   "cell_type": "markdown",
   "metadata": {
    "colab_type": "text",
    "id": "NxWgyl3pDDyZ"
   },
   "source": [
    "### Glove Pretrained"
   ]
  },
  {
   "cell_type": "code",
   "execution_count": null,
   "metadata": {},
   "outputs": [],
   "source": [
    "W2V_names = ['glove.6B.100d.txt', 'glove.6B.200d.txt']\n",
    "length = 100\n",
    "\n",
    "for W2V_model_name in W2V_names:\n",
    "  \n",
    "    glove_file = open(source_path + W2V_model_name)\n",
    "    embeddings_dictionary = dict()\n",
    "\n",
    "    for line in glove_file:\n",
    "        line = line.split()\n",
    "        word = line[0]\n",
    "        vector = np.array(line[1:], dtype='float32')\n",
    "        embeddings_dictionary[word] = vector\n",
    "    glove_file.close()\n",
    "\n",
    "    tokenizer = create_tokenizer(X_train_dl)\n",
    "    vocab_size = len(tokenizer.word_index) + 1\n",
    "    max_length = max([len(headline) for headline in X_train_dl])\n",
    "\n",
    "    X_train_dl_encoded = encode_text(X_train_dl, tokenizer, max_length)\n",
    "    X_valid_dl_encoded = encode_text(X_valid_dl, tokenizer, max_length)\n",
    "    X_test_dl_encoded = encode_text(X_test_dl, tokenizer, max_length)\n",
    "\n",
    "    tokenizer_embedding_mapper = np.zeros((vocab_size, length))\n",
    "    for word, index in tokenizer.word_index.items():\n",
    "        embedding_vector = embeddings_dictionary.get(word)\n",
    "        if embedding_vector is not None:\n",
    "            tokenizer_embedding_mapper[index] = embedding_vector\n",
    "\n",
    "    # Linking the learned embedding to the keras tokenizer object.\n",
    "    print('\\nTokenizer Shape : ', tokenizer_embedding_mapper.shape)\n",
    "\n",
    "    embedding_layer = Embedding(vocab_size, length, weights=[tokenizer_embedding_mapper], input_length=max_length, trainable=False) \t# Possi Trainable\n",
    "\n",
    "    model = CNN_model(embedding_layer)\n",
    "\n",
    "    print('############## COMPILING ' + W2V_model_name + '###############')\n",
    "\n",
    "    model_name = \"CNN_Glove_iteration_1\" + W2V_model_name\n",
    "\n",
    "    checkpoint_file = \"weights_\" + model_name + \".h5\"\n",
    "    checkpoint = ModelCheckpoint(checkpoint_file, monitor='val_accuracy',\n",
    "                                save_best_only=True, mode='max', verbose=1\n",
    "                                )\n",
    "    callbacks = [checkpoint]\n",
    "\n",
    "    optimizer = Adam(learning_rate=0.0002, beta_1=0.95, beta_2=0.999, epsilon=1e-07, amsgrad=False, name='Adam')\n",
    "    model.compile(loss='binary_crossentropy', optimizer=optimizer, metrics=['accuracy'])\n",
    "\n",
    "    model.fit(np.array(X_train_dl_encoded), np.array(y_train_dl),\n",
    "            batch_size=64, epochs=8, verbose=2,\n",
    "            validation_data=(np.array(X_valid_dl_encoded), np.array(y_valid_dl)),\n",
    "            callbacks=callbacks\n",
    "    )\n",
    "\n",
    "    length = length + 100"
   ]
  },
  {
   "cell_type": "markdown",
   "metadata": {},
   "source": [
    "## Results"
   ]
  },
  {
   "cell_type": "markdown",
   "metadata": {},
   "source": [
    "Model performance is measured using micro F1 Score. The best results obtained for each of the above models are as follows:\n",
    "\n",
    "| S.No | Model | Best Test Public | Best Test Private |\n",
    "|:- | :- | :-: | :-: |\n",
    "| 1 | RNN | 0.8286 | 0.8367\n",
    "| 2 | CNN + LSTM | 0.8279 | 0.8302\n",
    "| 3 | CNN | 0.8282 | 0.8289"
   ]
  }
 ],
 "metadata": {
  "kernelspec": {
   "display_name": "Python 3",
   "language": "python",
   "name": "python3"
  },
  "language_info": {
   "codemirror_mode": {
    "name": "ipython",
    "version": 3
   },
   "file_extension": ".py",
   "mimetype": "text/x-python",
   "name": "python",
   "nbconvert_exporter": "python",
   "pygments_lexer": "ipython3",
   "version": "3.7.7"
  },
  "toc": {
   "base_numbering": 1,
   "nav_menu": {},
   "number_sections": true,
   "sideBar": true,
   "skip_h1_title": false,
   "title_cell": "Table of Contents",
   "title_sidebar": "Contents",
   "toc_cell": true,
   "toc_position": {},
   "toc_section_display": true,
   "toc_window_display": true
  },
  "varInspector": {
   "cols": {
    "lenName": 16,
    "lenType": 16,
    "lenVar": 40
   },
   "kernels_config": {
    "python": {
     "delete_cmd_postfix": "",
     "delete_cmd_prefix": "del ",
     "library": "var_list.py",
     "varRefreshCmd": "print(var_dic_list())"
    },
    "r": {
     "delete_cmd_postfix": ") ",
     "delete_cmd_prefix": "rm(",
     "library": "var_list.r",
     "varRefreshCmd": "cat(var_dic_list()) "
    }
   },
   "types_to_exclude": [
    "module",
    "function",
    "builtin_function_or_method",
    "instance",
    "_Feature"
   ],
   "window_display": false
  }
 },
 "nbformat": 4,
 "nbformat_minor": 4
}
